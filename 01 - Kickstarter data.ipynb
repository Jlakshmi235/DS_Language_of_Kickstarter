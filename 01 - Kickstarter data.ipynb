{
 "cells": [
  {
   "cell_type": "markdown",
   "metadata": {},
   "source": [
    "# The Language of Kickstarter"
   ]
  },
  {
   "cell_type": "markdown",
   "metadata": {},
   "source": [
    "## Objective\n",
    "Kickstarter has defined 15 categories of projects i.e. Art, Comics, Crafts, Dance, Design, Fashion, Film & Video, Food, Games, Journalism, Music, Photography, Publishing, Technology, and Theater.\n",
    "\n",
    "The objective of my project is to using Natural Language Processing and Unsupervised Learning to analyze the the Kickstarter descriptions and to see whether\n",
    "1. some new categories would emerge based on the language used\n",
    "2. some categories would roll-up into some others"
   ]
  },
  {
   "cell_type": "markdown",
   "metadata": {},
   "source": [
    "### Step 1: Data Acquisition \n",
    "\n",
    "Data was obtained by scraping the Kickstarter website using selenium."
   ]
  },
  {
   "cell_type": "code",
   "execution_count": 1,
   "metadata": {
    "collapsed": true
   },
   "outputs": [],
   "source": [
    "from selenium import webdriver\n",
    "from selenium.webdriver.common.keys import Keys\n",
    "import time\n",
    "from selenium.common.exceptions import NoSuchElementException\n",
    "from selenium.common.exceptions import StaleElementReferenceException\n",
    "import pandas as pd\n",
    "import pickle\n",
    "import numpy as np"
   ]
  },
  {
   "cell_type": "code",
   "execution_count": 2,
   "metadata": {
    "collapsed": true
   },
   "outputs": [],
   "source": [
    "import matplotlib.pyplot as plt\n",
    "%matplotlib inline"
   ]
  },
  {
   "cell_type": "code",
   "execution_count": 3,
   "metadata": {
    "collapsed": true
   },
   "outputs": [],
   "source": [
    "# function to pickle an object to a file\n",
    "def from_pickle(filename):\n",
    "    with open(filename, 'rb') as f:\n",
    "        return pickle.load(f)"
   ]
  },
  {
   "cell_type": "code",
   "execution_count": 4,
   "metadata": {
    "collapsed": true
   },
   "outputs": [],
   "source": [
    "# function to read a pickled object\n",
    "def to_pickle(filename,objname):\n",
    "    with open(filename, 'wb') as f:\n",
    "        pickle.dump(objname, f)"
   ]
  },
  {
   "cell_type": "markdown",
   "metadata": {},
   "source": [
    "The first step in web scraping is to open a chrome browser and get the page from where you want to scrape the information."
   ]
  },
  {
   "cell_type": "code",
   "execution_count": 5,
   "metadata": {
    "collapsed": true
   },
   "outputs": [],
   "source": [
    "chromedriver_path = \"/Users/Jayalakshmi/chromedriver\"\n",
    "driver = webdriver.Chrome(chromedriver_path)\n",
    "driver.get('https://www.kickstarter.com/discover/advanced?ref=discovery_overlay')\n",
    "time.sleep(2); "
   ]
  },
  {
   "cell_type": "markdown",
   "metadata": {},
   "source": [
    "The page we load up looks like this:\n",
    "<br>\n",
    "<img src=\"images/kickstarter_land.png\">"
   ]
  },
  {
   "cell_type": "markdown",
   "metadata": {},
   "source": [
    "So, the plan is to get the links for each project on this page, store them in a dictionary and later open up each link and scrape the details.  \n",
    "<br>\n",
    "The initial page just loads up 12 projects.  \n",
    "<br>\n",
    "On scrolling down, we will notice a LOAD MORE button.\n",
    "<img src=\"images/load_more.png\">\n",
    "<br>\n",
    "The code in the next cell shows how to click the button."
   ]
  },
  {
   "cell_type": "code",
   "execution_count": 8,
   "metadata": {
    "collapsed": true
   },
   "outputs": [],
   "source": [
    "load_more = driver.find_element_by_xpath('//a[@class=\"btn btn--border-gray type-12\"]')\n",
    "load_more.click()\n",
    "time.sleep(5) "
   ]
  },
  {
   "cell_type": "markdown",
   "metadata": {},
   "source": [
    "This website has an infinite scrolling feature like we see on a Facebook timelinei.e. as we approach the bottom of the page, more projects get loaded and when we get to the bottom of that, even more get loaded. This goes on till there is no more content to load. Using the code below, we can load upto 3000 projects."
   ]
  },
  {
   "cell_type": "code",
   "execution_count": null,
   "metadata": {
    "collapsed": true
   },
   "outputs": [],
   "source": [
    "SCROLL_PAUSE_TIME = 3.0\n",
    "\n",
    "# Get scroll height\n",
    "last_height = driver.execute_script(\"return document.body.scrollHeight\")\n",
    "\n",
    "while True:\n",
    "    # Scroll down to bottom\n",
    "    driver.execute_script(\"window.scrollTo(0, document.body.scrollHeight);\")\n",
    "\n",
    "    # Wait to load page\n",
    "    time.sleep(SCROLL_PAUSE_TIME)\n",
    "\n",
    "    # Calculate new scroll height and compare with last scroll height\n",
    "    new_height = driver.execute_script(\"return document.body.scrollHeight\")\n",
    "    if new_height == last_height:\n",
    "        break\n",
    "    last_height = new_height"
   ]
  },
  {
   "cell_type": "markdown",
   "metadata": {},
   "source": [
    "Once 3000 projects are loaded onto the screen, then we can go ahead and scrape their links and categories and store them in a dictionary."
   ]
  },
  {
   "cell_type": "code",
   "execution_count": null,
   "metadata": {
    "collapsed": true
   },
   "outputs": [],
   "source": [
    "projects=[]"
   ]
  },
  {
   "cell_type": "code",
   "execution_count": null,
   "metadata": {
    "collapsed": true
   },
   "outputs": [],
   "source": [
    "project_category = driver.find_elements_by_xpath('//a[@class=\"navy-600\"]')\n",
    "project_link = driver.find_elements_by_xpath('//a[@class=\"block img-placeholder w100p\"]')\n",
    "\n",
    "for category, link in zip(project_category,project_link):\n",
    "    ind_project={}\n",
    "    ind_project['Category']=category.text\n",
    "    ind_project['Link']=link.get_attribute('href')\n",
    "    print (category.text)\n",
    "    print (link.get_attribute('href'))\n",
    "    projects.append(ind_project)"
   ]
  },
  {
   "cell_type": "code",
   "execution_count": null,
   "metadata": {
    "collapsed": true
   },
   "outputs": [],
   "source": [
    "to_pickle('kickstarter_dic.p',projects)"
   ]
  },
  {
   "cell_type": "code",
   "execution_count": 7,
   "metadata": {
    "collapsed": true
   },
   "outputs": [],
   "source": [
    "projects = from_pickle('kickstarter_dic.p')"
   ]
  },
  {
   "cell_type": "code",
   "execution_count": 8,
   "metadata": {},
   "outputs": [
    {
     "data": {
      "text/plain": [
       "3000"
      ]
     },
     "execution_count": 8,
     "metadata": {},
     "output_type": "execute_result"
    }
   ],
   "source": [
    "len(projects)"
   ]
  },
  {
   "cell_type": "code",
   "execution_count": 9,
   "metadata": {},
   "outputs": [
    {
     "data": {
      "text/plain": [
       "[{'Category': u'Tabletop Games',\n",
       "  'Link': u'https://www.kickstarter.com/projects/malachi-rempen/itchy-feet-the-travel-game?ref=discovery'},\n",
       " {'Category': u'Public Art',\n",
       "  'Link': u'https://www.kickstarter.com/projects/1973271377/murals-across-america-flint?ref=discovery'},\n",
       " {'Category': u'Apparel',\n",
       "  'Link': u'https://www.kickstarter.com/projects/1706599822/a-performance-rock-climbing-pant-with-a-modern-aes?ref=discovery'},\n",
       " {'Category': u'Art Books',\n",
       "  'Link': u'https://www.kickstarter.com/projects/347008021/the-untamed-beastiary-a-field-guide-to-marvelous-m?ref=discovery'},\n",
       " {'Category': u'Drinks',\n",
       "  'Link': u'https://www.kickstarter.com/projects/savethebarley/canvas-a-new-type-of-beverage-made-from-saved-grai?ref=discovery'}]"
      ]
     },
     "execution_count": 9,
     "metadata": {},
     "output_type": "execute_result"
    }
   ],
   "source": [
    "projects[:5]"
   ]
  },
  {
   "cell_type": "markdown",
   "metadata": {},
   "source": [
    "Now, open up each link and scrape the details. Scraped details include:\n",
    "1. Title of the project\n",
    "1. Blurb\n",
    "1. Location where the project is based\n",
    "1. Goal to be raised\n",
    "1. Amount actually pledged \n",
    "1. No. of Backers\n",
    "1. Description (this is the data that I am interested in)\n",
    "1. Risks involved (Description and Risks were combined for the analysis)\n",
    "1. Creator\n",
    "1. Deadline"
   ]
  },
  {
   "cell_type": "code",
   "execution_count": null,
   "metadata": {
    "collapsed": true
   },
   "outputs": [],
   "source": [
    "i=0"
   ]
  },
  {
   "cell_type": "code",
   "execution_count": null,
   "metadata": {
    "collapsed": true
   },
   "outputs": [],
   "source": [
    "for project in projects:\n",
    "    \n",
    "    print (i)\n",
    "    driver.get(project['Link'])\n",
    "    time.sleep(2); \n",
    "    \n",
    "    try:\n",
    "        spans = driver.find_elements_by_xpath('//h2[@class=\"type-24 type-28-sm type-38-md navy-700 medium mb3\"]')\n",
    "        for span in spans:\n",
    "            ;\n",
    "        project['Title']=span.text\n",
    "    except StaleElementReferenceException:\n",
    "        continue\n",
    "    \n",
    "    spans = driver.find_elements_by_xpath('//p[@class=\"type-14 type-18-md navy-600 mb0\"]')\n",
    "    for span in spans:\n",
    "        ;\n",
    "    project['Blurb']=span.text\n",
    "    \n",
    "    spans = driver.find_elements_by_xpath('//a[@class=\"nowrap navy-700 flex items-center medium type-12\"]')\n",
    "    for span in spans[:1]:\n",
    "        ;\n",
    "    project['Location']=span.text\n",
    "    \n",
    "    spans = driver.find_elements_by_xpath('//div[@class=\"num nowrap\"]')\n",
    "    for span in spans:\n",
    "        ;\n",
    "    project['Goal']=span.get_attribute('data-goal')\n",
    "    project['Pledged'] = span.get_attribute('data-pledged')\n",
    "    \n",
    "    spans = driver.find_elements_by_xpath('//div[@class=\"js-backers_count block type-16 type-24-md medium navy-700\"]')\n",
    "    for span in spans[:1]:\n",
    "        ;\n",
    "    project['Backers']=span.text\n",
    "    \n",
    "    description = ''\n",
    "    spans = driver.find_elements_by_xpath('//div[@class=\"full-description js-full-description responsive-media formatted-lists\"]/ul')\n",
    "    for span in spans:\n",
    "        description=description + span.text +' '\n",
    "    project['Description']=description\n",
    "\n",
    "    risks=''\n",
    "    spans = driver.find_elements_by_xpath('//div[@class=\"mb3 mb10-sm mb3 js-risks\"]/p')\n",
    "    for span in spans:\n",
    "        risks=risks + span.text +' '\n",
    "    project['Risks']=risks\n",
    "    \n",
    "    spans = driver.find_elements_by_xpath('//a[@class=\"medium navy-700 remote_modal_dialog\"]')\n",
    "    for span in spans:\n",
    "        print(span.text)\n",
    "    project['Creator']=span.text\n",
    "\n",
    "    spans = driver.find_elements_by_xpath('//p[@class=\"mb3 mb0-lg type-12\"]/time')\n",
    "    for span in spans:\n",
    "        ;\n",
    "    project['Deadline']=span.get_attribute('datetime')\n",
    "    \n",
    "    time.sleep(5)\n",
    "    i=i+1"
   ]
  },
  {
   "cell_type": "code",
   "execution_count": null,
   "metadata": {
    "collapsed": true
   },
   "outputs": [],
   "source": [
    "to_pickle('kickstarter_full_data.p',projects)"
   ]
  },
  {
   "cell_type": "code",
   "execution_count": 10,
   "metadata": {
    "collapsed": true
   },
   "outputs": [],
   "source": [
    "projects=from_pickle('kickstarter_full_data.p')"
   ]
  },
  {
   "cell_type": "markdown",
   "metadata": {},
   "source": [
    "Not all the pages were uniformly structured. Some of them didn't have have the information under the same html tags as most pages. These projects are removed."
   ]
  },
  {
   "cell_type": "code",
   "execution_count": 12,
   "metadata": {
    "collapsed": true
   },
   "outputs": [],
   "source": [
    "keep = [project for project in projects if len(project)>10]"
   ]
  },
  {
   "cell_type": "code",
   "execution_count": 13,
   "metadata": {},
   "outputs": [
    {
     "data": {
      "text/plain": [
       "2972"
      ]
     },
     "execution_count": 13,
     "metadata": {},
     "output_type": "execute_result"
    }
   ],
   "source": [
    "len(keep)"
   ]
  },
  {
   "cell_type": "code",
   "execution_count": 14,
   "metadata": {
    "collapsed": true
   },
   "outputs": [],
   "source": [
    "df = pd.DataFrame(keep)"
   ]
  },
  {
   "cell_type": "code",
   "execution_count": 15,
   "metadata": {},
   "outputs": [
    {
     "data": {
      "text/html": [
       "<div>\n",
       "<style>\n",
       "    .dataframe thead tr:only-child th {\n",
       "        text-align: right;\n",
       "    }\n",
       "\n",
       "    .dataframe thead th {\n",
       "        text-align: left;\n",
       "    }\n",
       "\n",
       "    .dataframe tbody tr th {\n",
       "        vertical-align: top;\n",
       "    }\n",
       "</style>\n",
       "<table border=\"1\" class=\"dataframe\">\n",
       "  <thead>\n",
       "    <tr style=\"text-align: right;\">\n",
       "      <th></th>\n",
       "      <th>Backers</th>\n",
       "      <th>Blurb</th>\n",
       "      <th>Category</th>\n",
       "      <th>Creator</th>\n",
       "      <th>Deadline</th>\n",
       "      <th>Description</th>\n",
       "      <th>Goal</th>\n",
       "      <th>Link</th>\n",
       "      <th>Location</th>\n",
       "      <th>Pledged</th>\n",
       "      <th>Risks</th>\n",
       "      <th>Title</th>\n",
       "    </tr>\n",
       "  </thead>\n",
       "  <tbody>\n",
       "    <tr>\n",
       "      <th>0</th>\n",
       "      <td>1,552</td>\n",
       "      <td>The simple, humorous and social travel-themed ...</td>\n",
       "      <td>Tabletop Games</td>\n",
       "      <td>Malachi Ray Rempen</td>\n",
       "      <td>2017-08-30T16:54:00-04:00</td>\n",
       "      <td>We've also put up a robust o...</td>\n",
       "      <td>10000.0</td>\n",
       "      <td>https://www.kickstarter.com/projects/malachi-r...</td>\n",
       "      <td>Berlin, Germany</td>\n",
       "      <td>45678.25</td>\n",
       "      <td>The game is finished and ready to go, so I'm c...</td>\n",
       "      <td>Itchy Feet: the Travel Game</td>\n",
       "    </tr>\n",
       "    <tr>\n",
       "      <th>1</th>\n",
       "      <td>86</td>\n",
       "      <td>Collaborative Community Mural Project</td>\n",
       "      <td>Public Art</td>\n",
       "      <td>Inga Loyeva</td>\n",
       "      <td>2017-09-12T15:23:44-04:00</td>\n",
       "      <td>783 million people worldwide lack access to cl...</td>\n",
       "      <td>14500.0</td>\n",
       "      <td>https://www.kickstarter.com/projects/197327137...</td>\n",
       "      <td>Flint, MI</td>\n",
       "      <td>12045.0</td>\n",
       "      <td>The greatest challenge as an artist is managin...</td>\n",
       "      <td>Murals Across America: Flint</td>\n",
       "    </tr>\n",
       "    <tr>\n",
       "      <th>2</th>\n",
       "      <td>412</td>\n",
       "      <td>A performance rock climbing pant designed to c...</td>\n",
       "      <td>Apparel</td>\n",
       "      <td>Wear Foehn</td>\n",
       "      <td>2017-08-20T11:52:09-04:00</td>\n",
       "      <td>...</td>\n",
       "      <td>10000.0</td>\n",
       "      <td>https://www.kickstarter.com/projects/170659982...</td>\n",
       "      <td>Quebec, Canada</td>\n",
       "      <td>71225.0</td>\n",
       "      <td>Unlike many other Kickstarter projects, our fi...</td>\n",
       "      <td>THE BRISE PANT : A modern rock climbing pant.</td>\n",
       "    </tr>\n",
       "    <tr>\n",
       "      <th>3</th>\n",
       "      <td>406</td>\n",
       "      <td>Embark on a journey filled with monsters and b...</td>\n",
       "      <td>Art Books</td>\n",
       "      <td>Crystal Sully</td>\n",
       "      <td>2017-09-09T12:29:59-04:00</td>\n",
       "      <td>Growing up as an adventurous kid I u...</td>\n",
       "      <td>7535.0</td>\n",
       "      <td>https://www.kickstarter.com/projects/347008021...</td>\n",
       "      <td>Denver, CO</td>\n",
       "      <td>26025.0</td>\n",
       "      <td>As a two-person team this project has a lot of...</td>\n",
       "      <td>The Untamed Beastiary: A Field Guide to Marvel...</td>\n",
       "    </tr>\n",
       "    <tr>\n",
       "      <th>4</th>\n",
       "      <td>405</td>\n",
       "      <td>Canvas is the first sustainable, plant-based b...</td>\n",
       "      <td>Drinks</td>\n",
       "      <td>Canvas</td>\n",
       "      <td>2017-08-31T20:00:00-04:00</td>\n",
       "      <td>Our story begins with the production of one ...</td>\n",
       "      <td>25000.0</td>\n",
       "      <td>https://www.kickstarter.com/projects/savetheba...</td>\n",
       "      <td>New York, NY</td>\n",
       "      <td>41845.0</td>\n",
       "      <td>Our team is committed to manufacturing the hig...</td>\n",
       "      <td>CANVAS: A Revolutionary New Beverage Made from...</td>\n",
       "    </tr>\n",
       "  </tbody>\n",
       "</table>\n",
       "</div>"
      ],
      "text/plain": [
       "  Backers                                              Blurb        Category  \\\n",
       "0   1,552  The simple, humorous and social travel-themed ...  Tabletop Games   \n",
       "1      86              Collaborative Community Mural Project      Public Art   \n",
       "2     412  A performance rock climbing pant designed to c...         Apparel   \n",
       "3     406  Embark on a journey filled with monsters and b...       Art Books   \n",
       "4     405  Canvas is the first sustainable, plant-based b...          Drinks   \n",
       "\n",
       "              Creator                   Deadline  \\\n",
       "0  Malachi Ray Rempen  2017-08-30T16:54:00-04:00   \n",
       "1         Inga Loyeva  2017-09-12T15:23:44-04:00   \n",
       "2          Wear Foehn  2017-08-20T11:52:09-04:00   \n",
       "3       Crystal Sully  2017-09-09T12:29:59-04:00   \n",
       "4              Canvas  2017-08-31T20:00:00-04:00   \n",
       "\n",
       "                                         Description     Goal  \\\n",
       "0                    We've also put up a robust o...  10000.0   \n",
       "1  783 million people worldwide lack access to cl...  14500.0   \n",
       "2                                                ...  10000.0   \n",
       "3            Growing up as an adventurous kid I u...   7535.0   \n",
       "4    Our story begins with the production of one ...  25000.0   \n",
       "\n",
       "                                                Link         Location  \\\n",
       "0  https://www.kickstarter.com/projects/malachi-r...  Berlin, Germany   \n",
       "1  https://www.kickstarter.com/projects/197327137...        Flint, MI   \n",
       "2  https://www.kickstarter.com/projects/170659982...   Quebec, Canada   \n",
       "3  https://www.kickstarter.com/projects/347008021...       Denver, CO   \n",
       "4  https://www.kickstarter.com/projects/savetheba...     New York, NY   \n",
       "\n",
       "    Pledged                                              Risks  \\\n",
       "0  45678.25  The game is finished and ready to go, so I'm c...   \n",
       "1   12045.0  The greatest challenge as an artist is managin...   \n",
       "2   71225.0  Unlike many other Kickstarter projects, our fi...   \n",
       "3   26025.0  As a two-person team this project has a lot of...   \n",
       "4   41845.0  Our team is committed to manufacturing the hig...   \n",
       "\n",
       "                                               Title  \n",
       "0                        Itchy Feet: the Travel Game  \n",
       "1                       Murals Across America: Flint  \n",
       "2      THE BRISE PANT : A modern rock climbing pant.  \n",
       "3  The Untamed Beastiary: A Field Guide to Marvel...  \n",
       "4  CANVAS: A Revolutionary New Beverage Made from...  "
      ]
     },
     "execution_count": 15,
     "metadata": {},
     "output_type": "execute_result"
    }
   ],
   "source": [
    "df.head()"
   ]
  },
  {
   "cell_type": "code",
   "execution_count": null,
   "metadata": {
    "collapsed": true
   },
   "outputs": [],
   "source": [
    "to_pickle('kickstarter_df.p',df)"
   ]
  },
  {
   "cell_type": "code",
   "execution_count": 9,
   "metadata": {
    "collapsed": true
   },
   "outputs": [],
   "source": [
    "kickstarter_df = from_pickle('kickstarter_df.p')"
   ]
  },
  {
   "cell_type": "code",
   "execution_count": 10,
   "metadata": {},
   "outputs": [
    {
     "data": {
      "text/plain": [
       "148"
      ]
     },
     "execution_count": 10,
     "metadata": {},
     "output_type": "execute_result"
    }
   ],
   "source": [
    "len(kickstarter_df.Category.unique())"
   ]
  },
  {
   "cell_type": "markdown",
   "metadata": {},
   "source": [
    "The categories scraped were actually subcategories and takes on 148 unique values. Thats a lot to handle with since my objective also revolves around the project categories. \n",
    "<br>\n",
    "So, I found the super categories for them on Kickstarter, which would take just 15 unique values and this information was added to the dataframe."
   ]
  },
  {
   "cell_type": "code",
   "execution_count": 11,
   "metadata": {
    "collapsed": true
   },
   "outputs": [],
   "source": [
    "art = [\"Ceramics\", \"Conceptual Art\", \"Digital Art\", \"Illustration\", \"Installations\", \"Mixed Media\", \"Painting\", \"Performance Art\", \"Public Art\", \"Sculpture\", \"Textiles\", \"Video Art\", \"Art\"]\n",
    "\n",
    "comics = [\"Comics\", \"Anthologies\", \"Webcomics\", \"Comic Books\", \"Events\", \"Graphic Novels\"]\n",
    "\n",
    "crafts = [\"Crafts\", \"Candles\", \"DIY\", \"Glass\", \"Printing\", \"Knitting\", \"Pottery\", \"Quilts\", \"Stationery\", \"Woodworking\"]\n",
    "\n",
    "dance = [\"Dance\", \"Experimental\", \"Performances\", \"Spaces\", \"Workshops\"]\n",
    "\n",
    "design = [\"Design\", \"Architecture\", \"Civic Design\", \"Interactive Design\", \"Graphic Design\", \"Product Design\", \"Technology\", \"Typography\"]\n",
    "\n",
    "fashion = [\"Fashion\", \"Accessories\", \"Apparel\", \"Childrenswear\", \"Couture\", \"Footwear\", \"Jewelry\", \"Ready-to-wear\"]\n",
    "\n",
    "film_video = [\"Film & Video\", \"Action\", \"Animation\", \"Comedy\", \"Documentary\", \"Drama\", \"Family\", \"Fantasy\", \"Festivals\", \"Horror\", \"Movie Theaters\", \"Music Videos\", \"Narrative Film\", \"Romance\", \"Science Fiction\", \"Shorts\", \"Television\", \"Thrillers\", \"Webseries\" ]\n",
    "\n",
    "food = [\"Food\", \"Community Gardens\", \"Cookbooks\", \"Farmer's Markets\", \"Drinks\", \"Farms\", \"Food Trucks\", \"Restaurants\", \"Small Batch\", \"Vegan\"]\n",
    "\n",
    "games = [\"Tabletop Games\", \"Video Games\", \"Games\", \"Playing Cards\", \"Live Games\", \"Mobile Games\", \"Gaming Hardware\"]\n",
    "\n",
    "journalism = [\"Journalism\", \"Audio\", \"Print\", \"Video\", \"Web\"]\n",
    "\n",
    "music = [\"Music\", \"Latin\", \"Blues\", \"Punk\", \"Metal\", \"Jazz\", \"Classical Music\", \"Country & Folk\", \"Electronic Music\", \"Faith\", \"Hip-Hop\", \"Pop\", \"Indie Rock\", \"Kids\", \"R&B\", \"Rock\", \"World Music\"]\n",
    "\n",
    "photography = [\"Photography\", \"Animals\", \"Fine Art\", \"People\", \"Nature\", \"Photobooks\", \"Places\"]\n",
    "\n",
    "publishing = [\"Publishing\", \"Academic\", \"Art Books\", \"Calendars\", \"Children's Books\", \"Fiction\", \"Letterpress\", \"Literary Journals\", \"Nonfiction\", \"Periodicals\", \"Poetry\", \"Radio & Podcasts\", \"Translations\", \"Young Adult\", \"Zines\"]\n",
    "\n",
    "technology = [\"Apps\", \"Gadgets\", \"Hardware\", \"Software\", \"Wearables\", \"Camera Equipment\", \"3D Printing\", \"Makerspaces\", \"Flight\", \"Space Exploration\", \"Fabrication Tools\", \"Robots\", \"Sound\", \"DIY Electronics\"]\n",
    "\n",
    "theater = [\"Theater\", \"Musical\", \"Plays\" , \"Immersive\"]"
   ]
  },
  {
   "cell_type": "code",
   "execution_count": 12,
   "metadata": {
    "collapsed": true
   },
   "outputs": [],
   "source": [
    "for sub_category in art:\n",
    "    kickstarter_df.loc[kickstarter_df['Category']==sub_category,'Category']= \"Art\"\n",
    "\n",
    "for sub_category in comics:\n",
    "    kickstarter_df.loc[kickstarter_df['Category']==sub_category,'Category']= \"Comics\"\n",
    "    \n",
    "for sub_category in crafts:\n",
    "    kickstarter_df.loc[kickstarter_df['Category']==sub_category,'Category']= \"Crafts\"\n",
    "\n",
    "for sub_category in dance:\n",
    "    kickstarter_df.loc[kickstarter_df['Category']==sub_category,'Category']= \"Dance\"\n",
    "\n",
    "for sub_category in design:\n",
    "    kickstarter_df.loc[kickstarter_df['Category']==sub_category,'Category']= \"Design\"\n",
    "\n",
    "for sub_category in fashion:\n",
    "    kickstarter_df.loc[kickstarter_df['Category']==sub_category,'Category']= \"Fashion\"\n",
    "\n",
    "for sub_category in film_video:\n",
    "    kickstarter_df.loc[kickstarter_df['Category']==sub_category,'Category']= \"Film & Video\"\n",
    "    \n",
    "for sub_category in food:\n",
    "    kickstarter_df.loc[kickstarter_df['Category']==sub_category,'Category']= \"Food\"\n",
    "\n",
    "for sub_category in games:\n",
    "    kickstarter_df.loc[kickstarter_df['Category']==sub_category,'Category']= \"Games\"\n",
    "\n",
    "for sub_category in journalism:\n",
    "    kickstarter_df.loc[kickstarter_df['Category']==sub_category,'Category']= \"Journalism\"\n",
    "\n",
    "for sub_category in music:\n",
    "    kickstarter_df.loc[kickstarter_df['Category']==sub_category,'Category']= \"Music\"\n",
    "\n",
    "for sub_category in photography:\n",
    "    kickstarter_df.loc[kickstarter_df['Category']==sub_category,'Category']= \"Photography\"\n",
    "\n",
    "for sub_category in publishing:\n",
    "    kickstarter_df.loc[kickstarter_df['Category']==sub_category,'Category']= \"Publishing\"\n",
    "    \n",
    "for sub_category in technology:\n",
    "    kickstarter_df.loc[kickstarter_df['Category']==sub_category,'Category']= \"Technology\"\n",
    "    \n",
    "for sub_category in theater:\n",
    "    kickstarter_df.loc[kickstarter_df['Category']==sub_category,'Category']= \"Theater\""
   ]
  },
  {
   "cell_type": "code",
   "execution_count": 13,
   "metadata": {
    "collapsed": true
   },
   "outputs": [],
   "source": [
    "values = []\n",
    "categories = []\n",
    "for row, val in zip(kickstarter_df.Category.value_counts().index,kickstarter_df.Category.value_counts()):\n",
    "    values.append(val)\n",
    "    categories.append(row)"
   ]
  },
  {
   "cell_type": "code",
   "execution_count": 14,
   "metadata": {},
   "outputs": [
    {
     "data": {
      "text/plain": [
       "<matplotlib.text.Text at 0x1107cbe50>"
      ]
     },
     "execution_count": 14,
     "metadata": {},
     "output_type": "execute_result"
    },
    {
     "data": {
      "image/png": "[encoded data removed]",
      "text/plain": [
       "<matplotlib.figure.Figure at 0x1106f5b10>"
      ]
     },
     "metadata": {},
     "output_type": "display_data"
    }
   ],
   "source": [
    "plt.figure()\n",
    "\n",
    "plt.barh(np.arange(len(categories)), values)\n",
    "\n",
    "plt.yticks(np.arange(len(categories)),\n",
    "           [category for category in categories]);\n",
    "plt.xlabel(\"# of projects\")\n",
    "plt.ylabel('Categories')\n",
    "plt.title(\"Distribution of projects among different categories\")"
   ]
  },
  {
   "cell_type": "code",
   "execution_count": null,
   "metadata": {
    "collapsed": true
   },
   "outputs": [],
   "source": [
    "kickstarter_df['State/Country'] = kickstarter_df.Location.str.split(',').str[1]"
   ]
  },
  {
   "cell_type": "code",
   "execution_count": 35,
   "metadata": {},
   "outputs": [
    {
     "data": {
      "text/plain": [
       " CA                         350\n",
       " UK                         303\n",
       " NY                         189\n",
       " Canada                     126\n",
       " TX                         119\n",
       " FL                         110\n",
       " AU                         100\n",
       " Mexico                      82\n",
       " IL                          79\n",
       " WA                          65\n",
       " PA                          62\n",
       " OH                          60\n",
       " GA                          55\n",
       " Germany                     53\n",
       " CO                          52\n",
       " UT                          48\n",
       " Italy                       47\n",
       " NC                          47\n",
       " OR                          45\n",
       " NJ                          43\n",
       " TN                          41\n",
       " VA                          37\n",
       " AZ                          35\n",
       " Hong Kong                   34\n",
       " MA                          33\n",
       " MN                          31\n",
       " Spain                       31\n",
       " France                      30\n",
       " MI                          29\n",
       " NV                          29\n",
       "                           ... \n",
       " Philippines                  1\n",
       " Queens                       1\n",
       " Haiti                        1\n",
       " Virgin Islands               1\n",
       " Costa Rica                   1\n",
       " Memphis                      1\n",
       " Venezuela                    1\n",
       " Portland                     1\n",
       " Dominican Republic           1\n",
       " Iceland                      1\n",
       " Peru                         1\n",
       " Tanzania                     1\n",
       " Lithuania                    1\n",
       " Palestinian Territories      1\n",
       " Philadelphia                 1\n",
       " Mobile                       1\n",
       " Turkey                       1\n",
       " Greece                       1\n",
       " Lacey                        1\n",
       " Serbia                       1\n",
       " Bhutan                       1\n",
       " Raleigh                      1\n",
       " Solomon Islands              1\n",
       " Washington                   1\n",
       " Radcliff                     1\n",
       " Columbus                     1\n",
       " Nashville                    1\n",
       " Richmond                     1\n",
       " Luxembourg                   1\n",
       " Malta                        1\n",
       "Name: State/Country, Length: 125, dtype: int64"
      ]
     },
     "execution_count": 35,
     "metadata": {},
     "output_type": "execute_result"
    }
   ],
   "source": [
    "kickstarter_df['State/Country'].value_counts()"
   ]
  },
  {
   "cell_type": "code",
   "execution_count": 32,
   "metadata": {
    "collapsed": true
   },
   "outputs": [],
   "source": [
    "to_pickle('kickstarter_df_clean.p',kickstarter_df)"
   ]
  },
  {
   "cell_type": "code",
   "execution_count": 33,
   "metadata": {
    "collapsed": true
   },
   "outputs": [],
   "source": [
    "kickstarter_df = from_pickle('kickstarter_df_clean.p')"
   ]
  },
  {
   "cell_type": "code",
   "execution_count": 34,
   "metadata": {},
   "outputs": [
    {
     "data": {
      "text/html": [
       "<div>\n",
       "<style>\n",
       "    .dataframe thead tr:only-child th {\n",
       "        text-align: right;\n",
       "    }\n",
       "\n",
       "    .dataframe thead th {\n",
       "        text-align: left;\n",
       "    }\n",
       "\n",
       "    .dataframe tbody tr th {\n",
       "        vertical-align: top;\n",
       "    }\n",
       "</style>\n",
       "<table border=\"1\" class=\"dataframe\">\n",
       "  <thead>\n",
       "    <tr style=\"text-align: right;\">\n",
       "      <th></th>\n",
       "      <th>Backers</th>\n",
       "      <th>Blurb</th>\n",
       "      <th>Category</th>\n",
       "      <th>Creator</th>\n",
       "      <th>Deadline</th>\n",
       "      <th>Description</th>\n",
       "      <th>Goal</th>\n",
       "      <th>Link</th>\n",
       "      <th>Location</th>\n",
       "      <th>Pledged</th>\n",
       "      <th>Risks</th>\n",
       "      <th>Title</th>\n",
       "      <th>State/Country</th>\n",
       "    </tr>\n",
       "  </thead>\n",
       "  <tbody>\n",
       "    <tr>\n",
       "      <th>0</th>\n",
       "      <td>1,552</td>\n",
       "      <td>The simple, humorous and social travel-themed ...</td>\n",
       "      <td>Games</td>\n",
       "      <td>Malachi Ray Rempen</td>\n",
       "      <td>2017-08-30T16:54:00-04:00</td>\n",
       "      <td>We've also put up a robust o...</td>\n",
       "      <td>10000.0</td>\n",
       "      <td>https://www.kickstarter.com/projects/malachi-r...</td>\n",
       "      <td>Berlin, Germany</td>\n",
       "      <td>45678.25</td>\n",
       "      <td>The game is finished and ready to go, so I'm c...</td>\n",
       "      <td>Itchy Feet: the Travel Game</td>\n",
       "      <td>Germany</td>\n",
       "    </tr>\n",
       "    <tr>\n",
       "      <th>1</th>\n",
       "      <td>86</td>\n",
       "      <td>Collaborative Community Mural Project</td>\n",
       "      <td>Art</td>\n",
       "      <td>Inga Loyeva</td>\n",
       "      <td>2017-09-12T15:23:44-04:00</td>\n",
       "      <td>783 million people worldwide lack access to cl...</td>\n",
       "      <td>14500.0</td>\n",
       "      <td>https://www.kickstarter.com/projects/197327137...</td>\n",
       "      <td>Flint, MI</td>\n",
       "      <td>12045.0</td>\n",
       "      <td>The greatest challenge as an artist is managin...</td>\n",
       "      <td>Murals Across America: Flint</td>\n",
       "      <td>MI</td>\n",
       "    </tr>\n",
       "    <tr>\n",
       "      <th>2</th>\n",
       "      <td>412</td>\n",
       "      <td>A performance rock climbing pant designed to c...</td>\n",
       "      <td>Fashion</td>\n",
       "      <td>Wear Foehn</td>\n",
       "      <td>2017-08-20T11:52:09-04:00</td>\n",
       "      <td>...</td>\n",
       "      <td>10000.0</td>\n",
       "      <td>https://www.kickstarter.com/projects/170659982...</td>\n",
       "      <td>Quebec, Canada</td>\n",
       "      <td>71225.0</td>\n",
       "      <td>Unlike many other Kickstarter projects, our fi...</td>\n",
       "      <td>THE BRISE PANT : A modern rock climbing pant.</td>\n",
       "      <td>Canada</td>\n",
       "    </tr>\n",
       "    <tr>\n",
       "      <th>3</th>\n",
       "      <td>406</td>\n",
       "      <td>Embark on a journey filled with monsters and b...</td>\n",
       "      <td>Publishing</td>\n",
       "      <td>Crystal Sully</td>\n",
       "      <td>2017-09-09T12:29:59-04:00</td>\n",
       "      <td>Growing up as an adventurous kid I u...</td>\n",
       "      <td>7535.0</td>\n",
       "      <td>https://www.kickstarter.com/projects/347008021...</td>\n",
       "      <td>Denver, CO</td>\n",
       "      <td>26025.0</td>\n",
       "      <td>As a two-person team this project has a lot of...</td>\n",
       "      <td>The Untamed Beastiary: A Field Guide to Marvel...</td>\n",
       "      <td>CO</td>\n",
       "    </tr>\n",
       "    <tr>\n",
       "      <th>4</th>\n",
       "      <td>405</td>\n",
       "      <td>Canvas is the first sustainable, plant-based b...</td>\n",
       "      <td>Food</td>\n",
       "      <td>Canvas</td>\n",
       "      <td>2017-08-31T20:00:00-04:00</td>\n",
       "      <td>Our story begins with the production of one ...</td>\n",
       "      <td>25000.0</td>\n",
       "      <td>https://www.kickstarter.com/projects/savetheba...</td>\n",
       "      <td>New York, NY</td>\n",
       "      <td>41845.0</td>\n",
       "      <td>Our team is committed to manufacturing the hig...</td>\n",
       "      <td>CANVAS: A Revolutionary New Beverage Made from...</td>\n",
       "      <td>NY</td>\n",
       "    </tr>\n",
       "  </tbody>\n",
       "</table>\n",
       "</div>"
      ],
      "text/plain": [
       "  Backers                                              Blurb    Category  \\\n",
       "0   1,552  The simple, humorous and social travel-themed ...       Games   \n",
       "1      86              Collaborative Community Mural Project         Art   \n",
       "2     412  A performance rock climbing pant designed to c...     Fashion   \n",
       "3     406  Embark on a journey filled with monsters and b...  Publishing   \n",
       "4     405  Canvas is the first sustainable, plant-based b...        Food   \n",
       "\n",
       "              Creator                   Deadline  \\\n",
       "0  Malachi Ray Rempen  2017-08-30T16:54:00-04:00   \n",
       "1         Inga Loyeva  2017-09-12T15:23:44-04:00   \n",
       "2          Wear Foehn  2017-08-20T11:52:09-04:00   \n",
       "3       Crystal Sully  2017-09-09T12:29:59-04:00   \n",
       "4              Canvas  2017-08-31T20:00:00-04:00   \n",
       "\n",
       "                                         Description     Goal  \\\n",
       "0                    We've also put up a robust o...  10000.0   \n",
       "1  783 million people worldwide lack access to cl...  14500.0   \n",
       "2                                                ...  10000.0   \n",
       "3            Growing up as an adventurous kid I u...   7535.0   \n",
       "4    Our story begins with the production of one ...  25000.0   \n",
       "\n",
       "                                                Link         Location  \\\n",
       "0  https://www.kickstarter.com/projects/malachi-r...  Berlin, Germany   \n",
       "1  https://www.kickstarter.com/projects/197327137...        Flint, MI   \n",
       "2  https://www.kickstarter.com/projects/170659982...   Quebec, Canada   \n",
       "3  https://www.kickstarter.com/projects/347008021...       Denver, CO   \n",
       "4  https://www.kickstarter.com/projects/savetheba...     New York, NY   \n",
       "\n",
       "    Pledged                                              Risks  \\\n",
       "0  45678.25  The game is finished and ready to go, so I'm c...   \n",
       "1   12045.0  The greatest challenge as an artist is managin...   \n",
       "2   71225.0  Unlike many other Kickstarter projects, our fi...   \n",
       "3   26025.0  As a two-person team this project has a lot of...   \n",
       "4   41845.0  Our team is committed to manufacturing the hig...   \n",
       "\n",
       "                                               Title State/Country  \n",
       "0                        Itchy Feet: the Travel Game       Germany  \n",
       "1                       Murals Across America: Flint            MI  \n",
       "2      THE BRISE PANT : A modern rock climbing pant.        Canada  \n",
       "3  The Untamed Beastiary: A Field Guide to Marvel...            CO  \n",
       "4  CANVAS: A Revolutionary New Beverage Made from...            NY  "
      ]
     },
     "execution_count": 34,
     "metadata": {},
     "output_type": "execute_result"
    }
   ],
   "source": [
    "kickstarter_df.head()"
   ]
  },
  {
   "cell_type": "code",
   "execution_count": null,
   "metadata": {
    "collapsed": true
   },
   "outputs": [],
   "source": []
  }
 ],
 "metadata": {
  "anaconda-cloud": {},
  "kernelspec": {
   "display_name": "Python [conda root]",
   "language": "python",
   "name": "conda-root-py"
  },
  "language_info": {
   "codemirror_mode": {
    "name": "ipython",
    "version": 2
   },
   "file_extension": ".py",
   "mimetype": "text/x-python",
   "name": "python",
   "nbconvert_exporter": "python",
   "pygments_lexer": "ipython2",
   "version": "2.7.14"
  }
 },
 "nbformat": 4,
 "nbformat_minor": 2
}
