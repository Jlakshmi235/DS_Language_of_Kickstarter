{
 "cells": [
  {
   "cell_type": "markdown",
   "metadata": {},
   "source": [
    "### Step 2: Data Cleaning"
   ]
  },
  {
   "cell_type": "code",
   "execution_count": 84,
   "metadata": {},
   "outputs": [
    {
     "name": "stdout",
     "output_type": "stream",
     "text": [
      "\n"
     ]
    }
   ],
   "source": [
    "import pandas as pd\n",
    "import spacy\n",
    "import pickle\n",
    "import numpy as np\n",
    "import matplotlib.pyplot as plt\n",
    "%matplotlib inline"
   ]
  },
  {
   "cell_type": "code",
   "execution_count": 85,
   "metadata": {},
   "outputs": [],
   "source": [
    "nlp = spacy.load('en')"
   ]
  },
  {
   "cell_type": "code",
   "execution_count": 86,
   "metadata": {},
   "outputs": [],
   "source": [
    "def from_pickle(filename):\n",
    "    with open(filename, 'rb') as f:\n",
    "        return pickle.load(f)"
   ]
  },
  {
   "cell_type": "code",
   "execution_count": 87,
   "metadata": {},
   "outputs": [],
   "source": [
    "def to_pickle(filename,objname):\n",
    "    with open(filename, 'wb') as f:\n",
    "        pickle.dump(objname, f)"
   ]
  },
  {
   "cell_type": "code",
   "execution_count": 88,
   "metadata": {
    "scrolled": true
   },
   "outputs": [],
   "source": [
    "kickstarter_df = from_pickle('Pickled Files/kickstarter_df_clean.p')"
   ]
  },
  {
   "cell_type": "code",
   "execution_count": 89,
   "metadata": {},
   "outputs": [
    {
     "data": {
      "text/html": [
       "<div>\n",
       "<style scoped>\n",
       "    .dataframe tbody tr th:only-of-type {\n",
       "        vertical-align: middle;\n",
       "    }\n",
       "\n",
       "    .dataframe tbody tr th {\n",
       "        vertical-align: top;\n",
       "    }\n",
       "\n",
       "    .dataframe thead th {\n",
       "        text-align: right;\n",
       "    }\n",
       "</style>\n",
       "<table border=\"1\" class=\"dataframe\">\n",
       "  <thead>\n",
       "    <tr style=\"text-align: right;\">\n",
       "      <th></th>\n",
       "      <th>Backers</th>\n",
       "      <th>Blurb</th>\n",
       "      <th>Category</th>\n",
       "      <th>Creator</th>\n",
       "      <th>Deadline</th>\n",
       "      <th>Description</th>\n",
       "      <th>Goal</th>\n",
       "      <th>Link</th>\n",
       "      <th>Location</th>\n",
       "      <th>Pledged</th>\n",
       "      <th>Risks</th>\n",
       "      <th>Title</th>\n",
       "      <th>State/Country</th>\n",
       "    </tr>\n",
       "  </thead>\n",
       "  <tbody>\n",
       "    <tr>\n",
       "      <th>0</th>\n",
       "      <td>1,552</td>\n",
       "      <td>The simple, humorous and social travel-themed ...</td>\n",
       "      <td>Games</td>\n",
       "      <td>Malachi Ray Rempen</td>\n",
       "      <td>2017-08-30T16:54:00-04:00</td>\n",
       "      <td>We've also put up a robust o...</td>\n",
       "      <td>10000.0</td>\n",
       "      <td>https://www.kickstarter.com/projects/malachi-r...</td>\n",
       "      <td>Berlin, Germany</td>\n",
       "      <td>45678.25</td>\n",
       "      <td>The game is finished and ready to go, so I'm c...</td>\n",
       "      <td>Itchy Feet: the Travel Game</td>\n",
       "      <td>Germany</td>\n",
       "    </tr>\n",
       "    <tr>\n",
       "      <th>1</th>\n",
       "      <td>86</td>\n",
       "      <td>Collaborative Community Mural Project</td>\n",
       "      <td>Art</td>\n",
       "      <td>Inga Loyeva</td>\n",
       "      <td>2017-09-12T15:23:44-04:00</td>\n",
       "      <td>783 million people worldwide lack access to cl...</td>\n",
       "      <td>14500.0</td>\n",
       "      <td>https://www.kickstarter.com/projects/197327137...</td>\n",
       "      <td>Flint, MI</td>\n",
       "      <td>12045.0</td>\n",
       "      <td>The greatest challenge as an artist is managin...</td>\n",
       "      <td>Murals Across America: Flint</td>\n",
       "      <td>MI</td>\n",
       "    </tr>\n",
       "    <tr>\n",
       "      <th>2</th>\n",
       "      <td>412</td>\n",
       "      <td>A performance rock climbing pant designed to c...</td>\n",
       "      <td>Fashion</td>\n",
       "      <td>Wear Foehn</td>\n",
       "      <td>2017-08-20T11:52:09-04:00</td>\n",
       "      <td>...</td>\n",
       "      <td>10000.0</td>\n",
       "      <td>https://www.kickstarter.com/projects/170659982...</td>\n",
       "      <td>Quebec, Canada</td>\n",
       "      <td>71225.0</td>\n",
       "      <td>Unlike many other Kickstarter projects, our fi...</td>\n",
       "      <td>THE BRISE PANT : A modern rock climbing pant.</td>\n",
       "      <td>Canada</td>\n",
       "    </tr>\n",
       "    <tr>\n",
       "      <th>3</th>\n",
       "      <td>406</td>\n",
       "      <td>Embark on a journey filled with monsters and b...</td>\n",
       "      <td>Publishing</td>\n",
       "      <td>Crystal Sully</td>\n",
       "      <td>2017-09-09T12:29:59-04:00</td>\n",
       "      <td>Growing up as an adventurous kid I u...</td>\n",
       "      <td>7535.0</td>\n",
       "      <td>https://www.kickstarter.com/projects/347008021...</td>\n",
       "      <td>Denver, CO</td>\n",
       "      <td>26025.0</td>\n",
       "      <td>As a two-person team this project has a lot of...</td>\n",
       "      <td>The Untamed Beastiary: A Field Guide to Marvel...</td>\n",
       "      <td>CO</td>\n",
       "    </tr>\n",
       "    <tr>\n",
       "      <th>4</th>\n",
       "      <td>405</td>\n",
       "      <td>Canvas is the first sustainable, plant-based b...</td>\n",
       "      <td>Food</td>\n",
       "      <td>Canvas</td>\n",
       "      <td>2017-08-31T20:00:00-04:00</td>\n",
       "      <td>Our story begins with the production of one ...</td>\n",
       "      <td>25000.0</td>\n",
       "      <td>https://www.kickstarter.com/projects/savetheba...</td>\n",
       "      <td>New York, NY</td>\n",
       "      <td>41845.0</td>\n",
       "      <td>Our team is committed to manufacturing the hig...</td>\n",
       "      <td>CANVAS: A Revolutionary New Beverage Made from...</td>\n",
       "      <td>NY</td>\n",
       "    </tr>\n",
       "  </tbody>\n",
       "</table>\n",
       "</div>"
      ],
      "text/plain": [
       "  Backers                                              Blurb    Category  \\\n",
       "0   1,552  The simple, humorous and social travel-themed ...       Games   \n",
       "1      86              Collaborative Community Mural Project         Art   \n",
       "2     412  A performance rock climbing pant designed to c...     Fashion   \n",
       "3     406  Embark on a journey filled with monsters and b...  Publishing   \n",
       "4     405  Canvas is the first sustainable, plant-based b...        Food   \n",
       "\n",
       "              Creator                   Deadline  \\\n",
       "0  Malachi Ray Rempen  2017-08-30T16:54:00-04:00   \n",
       "1         Inga Loyeva  2017-09-12T15:23:44-04:00   \n",
       "2          Wear Foehn  2017-08-20T11:52:09-04:00   \n",
       "3       Crystal Sully  2017-09-09T12:29:59-04:00   \n",
       "4              Canvas  2017-08-31T20:00:00-04:00   \n",
       "\n",
       "                                         Description     Goal  \\\n",
       "0                    We've also put up a robust o...  10000.0   \n",
       "1  783 million people worldwide lack access to cl...  14500.0   \n",
       "2                                                ...  10000.0   \n",
       "3            Growing up as an adventurous kid I u...   7535.0   \n",
       "4    Our story begins with the production of one ...  25000.0   \n",
       "\n",
       "                                                Link         Location  \\\n",
       "0  https://www.kickstarter.com/projects/malachi-r...  Berlin, Germany   \n",
       "1  https://www.kickstarter.com/projects/197327137...        Flint, MI   \n",
       "2  https://www.kickstarter.com/projects/170659982...   Quebec, Canada   \n",
       "3  https://www.kickstarter.com/projects/347008021...       Denver, CO   \n",
       "4  https://www.kickstarter.com/projects/savetheba...     New York, NY   \n",
       "\n",
       "    Pledged                                              Risks  \\\n",
       "0  45678.25  The game is finished and ready to go, so I'm c...   \n",
       "1   12045.0  The greatest challenge as an artist is managin...   \n",
       "2   71225.0  Unlike many other Kickstarter projects, our fi...   \n",
       "3   26025.0  As a two-person team this project has a lot of...   \n",
       "4   41845.0  Our team is committed to manufacturing the hig...   \n",
       "\n",
       "                                               Title State/Country  \n",
       "0                        Itchy Feet: the Travel Game       Germany  \n",
       "1                       Murals Across America: Flint            MI  \n",
       "2      THE BRISE PANT : A modern rock climbing pant.        Canada  \n",
       "3  The Untamed Beastiary: A Field Guide to Marvel...            CO  \n",
       "4  CANVAS: A Revolutionary New Beverage Made from...            NY  "
      ]
     },
     "execution_count": 89,
     "metadata": {},
     "output_type": "execute_result"
    }
   ],
   "source": [
    "kickstarter_df.head()"
   ]
  },
  {
   "cell_type": "markdown",
   "metadata": {},
   "source": [
    "#### a) Remove all non-ascii characters"
   ]
  },
  {
   "cell_type": "code",
   "execution_count": 90,
   "metadata": {},
   "outputs": [],
   "source": [
    "kickstarter_df['Blurb'] = kickstarter_df['Blurb'].apply(lambda x: x.encode('ascii', 'ignore').decode())\n",
    "kickstarter_df['Description'] = kickstarter_df['Description'].apply(lambda x: x.encode('ascii', 'ignore').decode())\n",
    "kickstarter_df['Risks'] = kickstarter_df['Risks'].apply(lambda x: x.encode('ascii', 'ignore').decode())\n",
    "kickstarter_df['Title'] = kickstarter_df['Title'].apply(lambda x: x.encode('ascii', 'ignore').decode())"
   ]
  },
  {
   "cell_type": "code",
   "execution_count": 91,
   "metadata": {},
   "outputs": [
    {
     "data": {
      "text/html": [
       "<div>\n",
       "<style scoped>\n",
       "    .dataframe tbody tr th:only-of-type {\n",
       "        vertical-align: middle;\n",
       "    }\n",
       "\n",
       "    .dataframe tbody tr th {\n",
       "        vertical-align: top;\n",
       "    }\n",
       "\n",
       "    .dataframe thead th {\n",
       "        text-align: right;\n",
       "    }\n",
       "</style>\n",
       "<table border=\"1\" class=\"dataframe\">\n",
       "  <thead>\n",
       "    <tr style=\"text-align: right;\">\n",
       "      <th></th>\n",
       "      <th>Backers</th>\n",
       "      <th>Blurb</th>\n",
       "      <th>Category</th>\n",
       "      <th>Creator</th>\n",
       "      <th>Deadline</th>\n",
       "      <th>Description</th>\n",
       "      <th>Goal</th>\n",
       "      <th>Link</th>\n",
       "      <th>Location</th>\n",
       "      <th>Pledged</th>\n",
       "      <th>Risks</th>\n",
       "      <th>Title</th>\n",
       "      <th>State/Country</th>\n",
       "    </tr>\n",
       "  </thead>\n",
       "  <tbody>\n",
       "    <tr>\n",
       "      <th>0</th>\n",
       "      <td>1,552</td>\n",
       "      <td>The simple, humorous and social travel-themed ...</td>\n",
       "      <td>Games</td>\n",
       "      <td>Malachi Ray Rempen</td>\n",
       "      <td>2017-08-30T16:54:00-04:00</td>\n",
       "      <td>We've also put up a robust o...</td>\n",
       "      <td>10000.0</td>\n",
       "      <td>https://www.kickstarter.com/projects/malachi-r...</td>\n",
       "      <td>Berlin, Germany</td>\n",
       "      <td>45678.25</td>\n",
       "      <td>The game is finished and ready to go, so I'm c...</td>\n",
       "      <td>Itchy Feet: the Travel Game</td>\n",
       "      <td>Germany</td>\n",
       "    </tr>\n",
       "    <tr>\n",
       "      <th>1</th>\n",
       "      <td>86</td>\n",
       "      <td>Collaborative Community Mural Project</td>\n",
       "      <td>Art</td>\n",
       "      <td>Inga Loyeva</td>\n",
       "      <td>2017-09-12T15:23:44-04:00</td>\n",
       "      <td>783 million people worldwide lack access to cl...</td>\n",
       "      <td>14500.0</td>\n",
       "      <td>https://www.kickstarter.com/projects/197327137...</td>\n",
       "      <td>Flint, MI</td>\n",
       "      <td>12045.0</td>\n",
       "      <td>The greatest challenge as an artist is managin...</td>\n",
       "      <td>Murals Across America: Flint</td>\n",
       "      <td>MI</td>\n",
       "    </tr>\n",
       "    <tr>\n",
       "      <th>2</th>\n",
       "      <td>412</td>\n",
       "      <td>A performance rock climbing pant designed to c...</td>\n",
       "      <td>Fashion</td>\n",
       "      <td>Wear Foehn</td>\n",
       "      <td>2017-08-20T11:52:09-04:00</td>\n",
       "      <td>...</td>\n",
       "      <td>10000.0</td>\n",
       "      <td>https://www.kickstarter.com/projects/170659982...</td>\n",
       "      <td>Quebec, Canada</td>\n",
       "      <td>71225.0</td>\n",
       "      <td>Unlike many other Kickstarter projects, our fi...</td>\n",
       "      <td>THE BRISE PANT : A modern rock climbing pant.</td>\n",
       "      <td>Canada</td>\n",
       "    </tr>\n",
       "    <tr>\n",
       "      <th>3</th>\n",
       "      <td>406</td>\n",
       "      <td>Embark on a journey filled with monsters and b...</td>\n",
       "      <td>Publishing</td>\n",
       "      <td>Crystal Sully</td>\n",
       "      <td>2017-09-09T12:29:59-04:00</td>\n",
       "      <td>Growing up as an adventurous kid I u...</td>\n",
       "      <td>7535.0</td>\n",
       "      <td>https://www.kickstarter.com/projects/347008021...</td>\n",
       "      <td>Denver, CO</td>\n",
       "      <td>26025.0</td>\n",
       "      <td>As a two-person team this project has a lot of...</td>\n",
       "      <td>The Untamed Beastiary: A Field Guide to Marvel...</td>\n",
       "      <td>CO</td>\n",
       "    </tr>\n",
       "    <tr>\n",
       "      <th>4</th>\n",
       "      <td>405</td>\n",
       "      <td>Canvas is the first sustainable, plant-based b...</td>\n",
       "      <td>Food</td>\n",
       "      <td>Canvas</td>\n",
       "      <td>2017-08-31T20:00:00-04:00</td>\n",
       "      <td>Our story begins with the production of one ...</td>\n",
       "      <td>25000.0</td>\n",
       "      <td>https://www.kickstarter.com/projects/savetheba...</td>\n",
       "      <td>New York, NY</td>\n",
       "      <td>41845.0</td>\n",
       "      <td>Our team is committed to manufacturing the hig...</td>\n",
       "      <td>CANVAS: A Revolutionary New Beverage Made from...</td>\n",
       "      <td>NY</td>\n",
       "    </tr>\n",
       "  </tbody>\n",
       "</table>\n",
       "</div>"
      ],
      "text/plain": [
       "  Backers                                              Blurb    Category  \\\n",
       "0   1,552  The simple, humorous and social travel-themed ...       Games   \n",
       "1      86              Collaborative Community Mural Project         Art   \n",
       "2     412  A performance rock climbing pant designed to c...     Fashion   \n",
       "3     406  Embark on a journey filled with monsters and b...  Publishing   \n",
       "4     405  Canvas is the first sustainable, plant-based b...        Food   \n",
       "\n",
       "              Creator                   Deadline  \\\n",
       "0  Malachi Ray Rempen  2017-08-30T16:54:00-04:00   \n",
       "1         Inga Loyeva  2017-09-12T15:23:44-04:00   \n",
       "2          Wear Foehn  2017-08-20T11:52:09-04:00   \n",
       "3       Crystal Sully  2017-09-09T12:29:59-04:00   \n",
       "4              Canvas  2017-08-31T20:00:00-04:00   \n",
       "\n",
       "                                         Description     Goal  \\\n",
       "0                    We've also put up a robust o...  10000.0   \n",
       "1  783 million people worldwide lack access to cl...  14500.0   \n",
       "2                                                ...  10000.0   \n",
       "3            Growing up as an adventurous kid I u...   7535.0   \n",
       "4    Our story begins with the production of one ...  25000.0   \n",
       "\n",
       "                                                Link         Location  \\\n",
       "0  https://www.kickstarter.com/projects/malachi-r...  Berlin, Germany   \n",
       "1  https://www.kickstarter.com/projects/197327137...        Flint, MI   \n",
       "2  https://www.kickstarter.com/projects/170659982...   Quebec, Canada   \n",
       "3  https://www.kickstarter.com/projects/347008021...       Denver, CO   \n",
       "4  https://www.kickstarter.com/projects/savetheba...     New York, NY   \n",
       "\n",
       "    Pledged                                              Risks  \\\n",
       "0  45678.25  The game is finished and ready to go, so I'm c...   \n",
       "1   12045.0  The greatest challenge as an artist is managin...   \n",
       "2   71225.0  Unlike many other Kickstarter projects, our fi...   \n",
       "3   26025.0  As a two-person team this project has a lot of...   \n",
       "4   41845.0  Our team is committed to manufacturing the hig...   \n",
       "\n",
       "                                               Title State/Country  \n",
       "0                        Itchy Feet: the Travel Game       Germany  \n",
       "1                       Murals Across America: Flint            MI  \n",
       "2      THE BRISE PANT : A modern rock climbing pant.        Canada  \n",
       "3  The Untamed Beastiary: A Field Guide to Marvel...            CO  \n",
       "4  CANVAS: A Revolutionary New Beverage Made from...            NY  "
      ]
     },
     "execution_count": 91,
     "metadata": {},
     "output_type": "execute_result"
    }
   ],
   "source": [
    "kickstarter_df.head()"
   ]
  },
  {
   "cell_type": "markdown",
   "metadata": {},
   "source": [
    "#### b) Remove apostrophes"
   ]
  },
  {
   "cell_type": "code",
   "execution_count": 92,
   "metadata": {},
   "outputs": [],
   "source": [
    "kickstarter_df['Blurb'] = kickstarter_df['Blurb'].str.replace(r'(s\\')','s')\n",
    "kickstarter_df['Description'] = kickstarter_df['Description'].str.replace(r'(s\\')','s')\n",
    "kickstarter_df['Risks'] = kickstarter_df['Risks'].str.replace(r'(s\\')','s')\n",
    "kickstarter_df['Title'] = kickstarter_df['Title'].str.replace(r'(s\\')','s')"
   ]
  },
  {
   "cell_type": "code",
   "execution_count": 93,
   "metadata": {},
   "outputs": [],
   "source": [
    "kickstarter_df['Description+Risk'] = kickstarter_df['Description']+kickstarter_df['Risks']"
   ]
  },
  {
   "cell_type": "code",
   "execution_count": 94,
   "metadata": {},
   "outputs": [],
   "source": [
    "import enchant\n",
    "d = enchant.Dict(\"en_US\")"
   ]
  },
  {
   "cell_type": "markdown",
   "metadata": {},
   "source": [
    "#### c) Remove all puctuations, spaces, digits, numbers"
   ]
  },
  {
   "cell_type": "code",
   "execution_count": 95,
   "metadata": {},
   "outputs": [],
   "source": [
    "for i in range(kickstarter_df.shape[0]):\n",
    "\n",
    "    doc = nlp(kickstarter_df.iloc[i]['Description+Risk'])\n",
    "    bag_of_words = ''\n",
    "    for token in doc:\n",
    "\n",
    "        if token.is_stop or token.is_space or token.is_punct or token.is_digit or token.like_num:\n",
    "            continue\n",
    "        elif token.is_ascii:\n",
    "            bag_of_words += token.lemma_ + ' '\n",
    "        else:\n",
    "            continue\n",
    "\n",
    "    kickstarter_df.loc[i,'bag_of_words'] = bag_of_words\n"
   ]
  },
  {
   "cell_type": "markdown",
   "metadata": {},
   "source": [
    "#### d) Remove all email ids, twitter handles, links"
   ]
  },
  {
   "cell_type": "code",
   "execution_count": 96,
   "metadata": {},
   "outputs": [],
   "source": [
    "kickstarter_df['bag_of_words'] = kickstarter_df['bag_of_words'].str.replace(r'(http[A-Za-z0-9_:./-]+)', '')\n",
    "kickstarter_df['bag_of_words'] = kickstarter_df['bag_of_words'].str.replace(r'(@[A-Za-z0-9_]+)|(http[A-Za-z0-9_:./]+)|([A-Za-z0-9_]+\\.com)|(www\\.[A-Za-z0-9_]+)|(\\'s)|(@)|(#[A-Za-z0-9_]+)|(#)', '')\n",
    "kickstarter_df['bag_of_words'] = kickstarter_df['bag_of_words'].str.replace(r'(s\\')','s')"
   ]
  },
  {
   "cell_type": "code",
   "execution_count": 97,
   "metadata": {},
   "outputs": [],
   "source": [
    "for i in range(kickstarter_df.shape[0]):\n",
    "    words = kickstarter_df.iloc[i]['bag_of_words'].split()\n",
    "    bag_of_words = ''\n",
    "    for word in words:\n",
    "        if d.check(word)==True: \n",
    "            bag_of_words += word + ' '\n",
    "\n",
    "    kickstarter_df.loc[i,'bag_of_words'] = bag_of_words"
   ]
  },
  {
   "cell_type": "code",
   "execution_count": 98,
   "metadata": {},
   "outputs": [],
   "source": [
    "kickstarter_df.drop(1606,inplace=True)\n",
    "kickstarter_df.drop(767,inplace=True)"
   ]
  },
  {
   "cell_type": "code",
   "execution_count": 99,
   "metadata": {},
   "outputs": [],
   "source": [
    "for i in range(kickstarter_df.shape[0]):\n",
    "    doc = nlp(kickstarter_df.iloc[i]['bag_of_words'])\n",
    "    bag_of_words = ''\n",
    "    for token in doc:\n",
    "        if token.is_stop or token.is_space or token.is_punct or token.is_digit or token.like_num:\n",
    "            continue\n",
    "        elif token.is_ascii:\n",
    "            bag_of_words += token.lemma_ + ' '\n",
    "        else:\n",
    "            continue\n",
    "\n",
    "    kickstarter_df.loc[i,'bag_of_words'] = bag_of_words"
   ]
  },
  {
   "cell_type": "code",
   "execution_count": 100,
   "metadata": {},
   "outputs": [
    {
     "data": {
      "text/html": [
       "<div>\n",
       "<style scoped>\n",
       "    .dataframe tbody tr th:only-of-type {\n",
       "        vertical-align: middle;\n",
       "    }\n",
       "\n",
       "    .dataframe tbody tr th {\n",
       "        vertical-align: top;\n",
       "    }\n",
       "\n",
       "    .dataframe thead th {\n",
       "        text-align: right;\n",
       "    }\n",
       "</style>\n",
       "<table border=\"1\" class=\"dataframe\">\n",
       "  <thead>\n",
       "    <tr style=\"text-align: right;\">\n",
       "      <th></th>\n",
       "      <th>Backers</th>\n",
       "      <th>Blurb</th>\n",
       "      <th>Category</th>\n",
       "      <th>Creator</th>\n",
       "      <th>Deadline</th>\n",
       "      <th>Description</th>\n",
       "      <th>Goal</th>\n",
       "      <th>Link</th>\n",
       "      <th>Location</th>\n",
       "      <th>Pledged</th>\n",
       "      <th>Risks</th>\n",
       "      <th>Title</th>\n",
       "      <th>State/Country</th>\n",
       "      <th>Description+Risk</th>\n",
       "      <th>bag_of_words</th>\n",
       "    </tr>\n",
       "  </thead>\n",
       "  <tbody>\n",
       "    <tr>\n",
       "      <th>106</th>\n",
       "      <td>17</td>\n",
       "      <td>It s a series of 4 miniatures inspired by the ...</td>\n",
       "      <td>Design</td>\n",
       "      <td>Ricardo Armiñana/ DAMAJUANA DESIGN</td>\n",
       "      <td>2017-08-21T14:42:20-04:00</td>\n",
       "      <td>WHAT IS CLASSIC HOT ROD? / QU ES CLASSIC HOT R...</td>\n",
       "      <td>1500.0</td>\n",
       "      <td>https://www.kickstarter.com/projects/761088862...</td>\n",
       "      <td>Valencia, Spain</td>\n",
       "      <td>1506.0</td>\n",
       "      <td>We have more than 20 years of experience in pr...</td>\n",
       "      <td>CLASSIC HOT ROD. TUAUTO</td>\n",
       "      <td>Spain</td>\n",
       "      <td>WHAT IS CLASSIC HOT ROD? / QU ES CLASSIC HOT R...</td>\n",
       "      <td>classic hot rod es classic hot rod s series mi...</td>\n",
       "    </tr>\n",
       "    <tr>\n",
       "      <th>237</th>\n",
       "      <td>218</td>\n",
       "      <td>Five women, four cities. An intimate documenta...</td>\n",
       "      <td>Film &amp; Video</td>\n",
       "      <td>Singled [Out] Film</td>\n",
       "      <td>2017-08-24T10:20:35-04:00</td>\n",
       "      <td>For Spanish click here, and for Catalan ...</td>\n",
       "      <td>20000.0</td>\n",
       "      <td>https://www.kickstarter.com/projects/singledou...</td>\n",
       "      <td>Barcelona, Spain</td>\n",
       "      <td>17817.0</td>\n",
       "      <td>Many hands are needed to bring a documentary t...</td>\n",
       "      <td>Singled [Out]: a film about single women in an...</td>\n",
       "      <td>Spain</td>\n",
       "      <td>For Spanish click here, and for Catalan ...</td>\n",
       "      <td>click click yep read properly single pronounce...</td>\n",
       "    </tr>\n",
       "    <tr>\n",
       "      <th>273</th>\n",
       "      <td>12</td>\n",
       "      <td>The Morning Bridges is a gift-box of 31 handma...</td>\n",
       "      <td>Music</td>\n",
       "      <td>Ramon Gallifa</td>\n",
       "      <td>2017-09-16T14:00:00-04:00</td>\n",
       "      <td>EN ESPAOL AQU         EN CATAL AQU            ...</td>\n",
       "      <td>29999.0</td>\n",
       "      <td>https://www.kickstarter.com/projects/ramongall...</td>\n",
       "      <td>Sabadell, Spain</td>\n",
       "      <td>634.0</td>\n",
       "      <td>COMMITMENT: as you may imagine, I am absolutel...</td>\n",
       "      <td>The Morning Bridges (Double Music Album)</td>\n",
       "      <td>Spain</td>\n",
       "      <td>EN ESPAOL AQU         EN CATAL AQU            ...</td>\n",
       "      <td>en en musical voyage plethora different style ...</td>\n",
       "    </tr>\n",
       "    <tr>\n",
       "      <th>441</th>\n",
       "      <td>5</td>\n",
       "      <td>Hola! Somos Oktopussy! Una banda madrilea de S...</td>\n",
       "      <td>Music</td>\n",
       "      <td>Ska Cerebral — Oktopussy</td>\n",
       "      <td>2017-10-08T17:59:00-04:00</td>\n",
       "      <td>Ska Cerebral! Nuestro primer disco est ya en e...</td>\n",
       "      <td>2750.0</td>\n",
       "      <td>https://www.kickstarter.com/projects/168231486...</td>\n",
       "      <td>Madrid, Spain</td>\n",
       "      <td>84.0</td>\n",
       "      <td>Nos preguntan por riesgos y desafos en esta se...</td>\n",
       "      <td>Ska Cerebral!  Primer lbum de Oktopussy</td>\n",
       "      <td>Spain</td>\n",
       "      <td>Ska Cerebral! Nuestro primer disco est ya en e...</td>\n",
       "      <td>ska cerebral primer disco est ya en el lo y es...</td>\n",
       "    </tr>\n",
       "    <tr>\n",
       "      <th>545</th>\n",
       "      <td>25</td>\n",
       "      <td>A procedural generated platform videogame wher...</td>\n",
       "      <td>Games</td>\n",
       "      <td>David Orera</td>\n",
       "      <td>2017-08-30T07:04:15-04:00</td>\n",
       "      <td>[ENG] Descenso is the story of someone willin...</td>\n",
       "      <td>3500.0</td>\n",
       "      <td>https://www.kickstarter.com/projects/176697193...</td>\n",
       "      <td>Zaragoza, Spain</td>\n",
       "      <td>813.0</td>\n",
       "      <td>Since some goals and rewards consist of adding...</td>\n",
       "      <td>Descenso- A procedural Lovecraftian/Cthuluidea...</td>\n",
       "      <td>Spain</td>\n",
       "      <td>[ENG] Descenso is the story of someone willin...</td>\n",
       "      <td>story willing sacrifice humanity achieve goal ...</td>\n",
       "    </tr>\n",
       "  </tbody>\n",
       "</table>\n",
       "</div>"
      ],
      "text/plain": [
       "    Backers                                              Blurb      Category  \\\n",
       "106      17  It s a series of 4 miniatures inspired by the ...        Design   \n",
       "237     218  Five women, four cities. An intimate documenta...  Film & Video   \n",
       "273      12  The Morning Bridges is a gift-box of 31 handma...         Music   \n",
       "441       5  Hola! Somos Oktopussy! Una banda madrilea de S...         Music   \n",
       "545      25  A procedural generated platform videogame wher...         Games   \n",
       "\n",
       "                                Creator                   Deadline  \\\n",
       "106  Ricardo Armiñana/ DAMAJUANA DESIGN  2017-08-21T14:42:20-04:00   \n",
       "237                  Singled [Out] Film  2017-08-24T10:20:35-04:00   \n",
       "273                       Ramon Gallifa  2017-09-16T14:00:00-04:00   \n",
       "441            Ska Cerebral — Oktopussy  2017-10-08T17:59:00-04:00   \n",
       "545                         David Orera  2017-08-30T07:04:15-04:00   \n",
       "\n",
       "                                           Description     Goal  \\\n",
       "106  WHAT IS CLASSIC HOT ROD? / QU ES CLASSIC HOT R...   1500.0   \n",
       "237        For Spanish click here, and for Catalan ...  20000.0   \n",
       "273  EN ESPAOL AQU         EN CATAL AQU            ...  29999.0   \n",
       "441  Ska Cerebral! Nuestro primer disco est ya en e...   2750.0   \n",
       "545   [ENG] Descenso is the story of someone willin...   3500.0   \n",
       "\n",
       "                                                  Link          Location  \\\n",
       "106  https://www.kickstarter.com/projects/761088862...   Valencia, Spain   \n",
       "237  https://www.kickstarter.com/projects/singledou...  Barcelona, Spain   \n",
       "273  https://www.kickstarter.com/projects/ramongall...   Sabadell, Spain   \n",
       "441  https://www.kickstarter.com/projects/168231486...     Madrid, Spain   \n",
       "545  https://www.kickstarter.com/projects/176697193...   Zaragoza, Spain   \n",
       "\n",
       "     Pledged                                              Risks  \\\n",
       "106   1506.0  We have more than 20 years of experience in pr...   \n",
       "237  17817.0  Many hands are needed to bring a documentary t...   \n",
       "273    634.0  COMMITMENT: as you may imagine, I am absolutel...   \n",
       "441     84.0  Nos preguntan por riesgos y desafos en esta se...   \n",
       "545    813.0  Since some goals and rewards consist of adding...   \n",
       "\n",
       "                                                 Title State/Country  \\\n",
       "106                            CLASSIC HOT ROD. TUAUTO         Spain   \n",
       "237  Singled [Out]: a film about single women in an...         Spain   \n",
       "273           The Morning Bridges (Double Music Album)         Spain   \n",
       "441            Ska Cerebral!  Primer lbum de Oktopussy         Spain   \n",
       "545  Descenso- A procedural Lovecraftian/Cthuluidea...         Spain   \n",
       "\n",
       "                                      Description+Risk  \\\n",
       "106  WHAT IS CLASSIC HOT ROD? / QU ES CLASSIC HOT R...   \n",
       "237        For Spanish click here, and for Catalan ...   \n",
       "273  EN ESPAOL AQU         EN CATAL AQU            ...   \n",
       "441  Ska Cerebral! Nuestro primer disco est ya en e...   \n",
       "545   [ENG] Descenso is the story of someone willin...   \n",
       "\n",
       "                                          bag_of_words  \n",
       "106  classic hot rod es classic hot rod s series mi...  \n",
       "237  click click yep read properly single pronounce...  \n",
       "273  en en musical voyage plethora different style ...  \n",
       "441  ska cerebral primer disco est ya en el lo y es...  \n",
       "545  story willing sacrifice humanity achieve goal ...  "
      ]
     },
     "execution_count": 100,
     "metadata": {},
     "output_type": "execute_result"
    }
   ],
   "source": [
    "kickstarter_df.iloc[2424]['State/Country']\n",
    "kickstarter_df.loc[kickstarter_df['State/Country']==' Spain'].head()"
   ]
  },
  {
   "cell_type": "code",
   "execution_count": 101,
   "metadata": {},
   "outputs": [
    {
     "data": {
      "text/plain": [
       "u'viva company emerge idea improve quality life protect ecosystem function company production biological health food application advanced technology fish farm system know worldwide increasingly applicable develop country japan china area regardless climatic condition freely future food production furthermore cooperation local community company deal introduction new technology improvement agriculture system research laboratory seed production fish breeding edible medicinal herb development plan company year stage development business activity envisage marketing pr rural ecological tourism ecological art colony closely relate local cultural resource seminar network similar deal ecological principle world company development plan new technology development marketing pr center ecological tourism construction bungalow ecological art colony exhibition conference space equip work atelier raise domestic animal animal feed non commercial purpose viva process register necessary documentation development fund union development fund viva site project implementation technical documentation viva provide fund execution project professional technical support start construction work ground schedule viva associate experience professional field construction architecture renewable energy engineering finance tourism hotel management '"
      ]
     },
     "execution_count": 101,
     "metadata": {},
     "output_type": "execute_result"
    }
   ],
   "source": [
    "kickstarter_df.iloc[2566]['bag_of_words']"
   ]
  },
  {
   "cell_type": "markdown",
   "metadata": {},
   "source": [
    "#### Couple of descriptions were in foreigh languages like German, French etc. These were removed from the analysis"
   ]
  },
  {
   "cell_type": "code",
   "execution_count": 102,
   "metadata": {},
   "outputs": [],
   "source": [
    "foreign_lang = [59, 91, 98, 106, 231, 243, 236, 339, 365, 382, 395, 451, 459, 493, 576, 579, 604, 606, 621, 622,\n",
    "628, 634, 671, 680, 688, 698, 704, 713, 761, 849, 848, 844, 825,\n",
    "937, 998, 1079, 1092, 1140, 1775, 1219, 1251, 1257,1298, 1321, 1326, 1329, 1342, 1383, 1388, 1389, 1392,\n",
    "1398, 1400, 1407, 1456, 1487, 1506, 1509, 1513, 1553, 1561, 1585, 1591, 1605, 1604, 1626, 1703, 1765, \n",
    "1793, 1799, 1801, 1821, 1828, 1840, 1867, 1868, 1904, 1923, 1944, 1952, 1956,1969, 1996, 2021, 2040, 2057,\n",
    "2063, 2108, 2118, 2165, 2166, 2167, 2199, 2239, 2248, 2256, 2282, 2337, 2362, 2407, 2422, 2440,\n",
    "2470, 2496, 2504, 2566, 2575, 2620, 2625, 2633, 2634, 2640, 2661, 2732, 2905, 2952, 2955]\n",
    "\n",
    "foreign_lang_sort = sorted(foreign_lang, reverse=True)"
   ]
  },
  {
   "cell_type": "code",
   "execution_count": 103,
   "metadata": {},
   "outputs": [],
   "source": [
    "kickstarter_df['bag_of_words>2']=''"
   ]
  },
  {
   "cell_type": "code",
   "execution_count": 104,
   "metadata": {},
   "outputs": [],
   "source": [
    "for i in range(kickstarter_df.shape[0]):\n",
    "    words = kickstarter_df.iloc[i]['bag_of_words'].split()\n",
    "    bag_of_words = ''\n",
    "    for word in words:\n",
    "        if len(word)>2:\n",
    "            bag_of_words += word + ' '\n",
    "\n",
    "\n",
    "    kickstarter_df.loc[i,'bag_of_words>2'] = bag_of_words\n"
   ]
  },
  {
   "cell_type": "code",
   "execution_count": 105,
   "metadata": {},
   "outputs": [],
   "source": [
    "for row in foreign_lang_sort:\n",
    "    kickstarter_df.drop(row,inplace=True)"
   ]
  },
  {
   "cell_type": "code",
   "execution_count": 121,
   "metadata": {},
   "outputs": [],
   "source": [
    "df = kickstarter_df.Category.value_counts()"
   ]
  },
  {
   "cell_type": "code",
   "execution_count": 120,
   "metadata": {},
   "outputs": [
    {
     "data": {
      "text/plain": [
       "Text(0.5,1,u'No. of projects in different categories')"
      ]
     },
     "execution_count": 120,
     "metadata": {},
     "output_type": "execute_result"
    },
    {
     "data": {
      "image/png": "[encoded data removed]",
      "text/plain": [
       "<matplotlib.figure.Figure at 0x111e9b190>"
      ]
     },
     "metadata": {},
     "output_type": "display_data"
    }
   ],
   "source": [
    "labels = df.index.tolist()\n",
    "values = df.tolist()\n",
    "\n",
    "plt.figure()\n",
    "\n",
    "plt.barh(np.arange(len(labels)), values)\n",
    "\n",
    "plt.yticks(np.arange(len(labels)),\n",
    "           [label for label in labels]);\n",
    "plt.xlabel(\"# of projects\")\n",
    "plt.ylabel('Categories')\n",
    "plt.title(\"No. of projects in different categories\")"
   ]
  },
  {
   "cell_type": "code",
   "execution_count": 122,
   "metadata": {
    "scrolled": true
   },
   "outputs": [
    {
     "data": {
      "text/plain": [
       "(2855, 16)"
      ]
     },
     "execution_count": 122,
     "metadata": {},
     "output_type": "execute_result"
    }
   ],
   "source": [
    "kickstarter_df.shape"
   ]
  },
  {
   "cell_type": "code",
   "execution_count": 123,
   "metadata": {},
   "outputs": [
    {
     "data": {
      "text/html": [
       "<div>\n",
       "<style scoped>\n",
       "    .dataframe tbody tr th:only-of-type {\n",
       "        vertical-align: middle;\n",
       "    }\n",
       "\n",
       "    .dataframe tbody tr th {\n",
       "        vertical-align: top;\n",
       "    }\n",
       "\n",
       "    .dataframe thead th {\n",
       "        text-align: right;\n",
       "    }\n",
       "</style>\n",
       "<table border=\"1\" class=\"dataframe\">\n",
       "  <thead>\n",
       "    <tr style=\"text-align: right;\">\n",
       "      <th></th>\n",
       "      <th>index</th>\n",
       "      <th>Backers</th>\n",
       "      <th>Blurb</th>\n",
       "      <th>Category</th>\n",
       "      <th>Creator</th>\n",
       "      <th>Deadline</th>\n",
       "      <th>Description</th>\n",
       "      <th>Goal</th>\n",
       "      <th>Link</th>\n",
       "      <th>Location</th>\n",
       "      <th>Pledged</th>\n",
       "      <th>Risks</th>\n",
       "      <th>Title</th>\n",
       "      <th>State/Country</th>\n",
       "      <th>Description+Risk</th>\n",
       "      <th>bag_of_words</th>\n",
       "      <th>bag_of_words&gt;2</th>\n",
       "    </tr>\n",
       "  </thead>\n",
       "  <tbody>\n",
       "    <tr>\n",
       "      <th>0</th>\n",
       "      <td>0</td>\n",
       "      <td>1,552</td>\n",
       "      <td>The simple, humorous and social travel-themed ...</td>\n",
       "      <td>Games</td>\n",
       "      <td>Malachi Ray Rempen</td>\n",
       "      <td>2017-08-30T16:54:00-04:00</td>\n",
       "      <td>We've also put up a robust o...</td>\n",
       "      <td>10000.0</td>\n",
       "      <td>https://www.kickstarter.com/projects/malachi-r...</td>\n",
       "      <td>Berlin, Germany</td>\n",
       "      <td>45678.25</td>\n",
       "      <td>The game is finished and ready to go, so I'm c...</td>\n",
       "      <td>Itchy Feet: the Travel Game</td>\n",
       "      <td>Germany</td>\n",
       "      <td>We've also put up a robust o...</td>\n",
       "      <td>robust official website detailed rule video ne...</td>\n",
       "      <td>robust official website detailed rule video pa...</td>\n",
       "    </tr>\n",
       "    <tr>\n",
       "      <th>1</th>\n",
       "      <td>1</td>\n",
       "      <td>86</td>\n",
       "      <td>Collaborative Community Mural Project</td>\n",
       "      <td>Art</td>\n",
       "      <td>Inga Loyeva</td>\n",
       "      <td>2017-09-12T15:23:44-04:00</td>\n",
       "      <td>783 million people worldwide lack access to cl...</td>\n",
       "      <td>14500.0</td>\n",
       "      <td>https://www.kickstarter.com/projects/197327137...</td>\n",
       "      <td>Flint, MI</td>\n",
       "      <td>12045.0</td>\n",
       "      <td>The greatest challenge as an artist is managin...</td>\n",
       "      <td>Murals Across America: Flint</td>\n",
       "      <td>MI</td>\n",
       "      <td>783 million people worldwide lack access to cl...</td>\n",
       "      <td>people worldwide lack access clean safe drinki...</td>\n",
       "      <td>people worldwide lack access clean safe drinki...</td>\n",
       "    </tr>\n",
       "    <tr>\n",
       "      <th>2</th>\n",
       "      <td>2</td>\n",
       "      <td>412</td>\n",
       "      <td>A performance rock climbing pant designed to c...</td>\n",
       "      <td>Fashion</td>\n",
       "      <td>Wear Foehn</td>\n",
       "      <td>2017-08-20T11:52:09-04:00</td>\n",
       "      <td>...</td>\n",
       "      <td>10000.0</td>\n",
       "      <td>https://www.kickstarter.com/projects/170659982...</td>\n",
       "      <td>Quebec, Canada</td>\n",
       "      <td>71225.0</td>\n",
       "      <td>Unlike many other Kickstarter projects, our fi...</td>\n",
       "      <td>THE BRISE PANT : A modern rock climbing pant.</td>\n",
       "      <td>Canada</td>\n",
       "      <td>...</td>\n",
       "      <td>unlike project production run pant underway po...</td>\n",
       "      <td>unlike project production run pant underway po...</td>\n",
       "    </tr>\n",
       "    <tr>\n",
       "      <th>3</th>\n",
       "      <td>3</td>\n",
       "      <td>406</td>\n",
       "      <td>Embark on a journey filled with monsters and b...</td>\n",
       "      <td>Publishing</td>\n",
       "      <td>Crystal Sully</td>\n",
       "      <td>2017-09-09T12:29:59-04:00</td>\n",
       "      <td>Growing up as an adventurous kid I u...</td>\n",
       "      <td>7535.0</td>\n",
       "      <td>https://www.kickstarter.com/projects/347008021...</td>\n",
       "      <td>Denver, CO</td>\n",
       "      <td>26025.0</td>\n",
       "      <td>As a two-person team this project has a lot of...</td>\n",
       "      <td>The Untamed Beastiary: A Field Guide to Marvel...</td>\n",
       "      <td>CO</td>\n",
       "      <td>Growing up as an adventurous kid I u...</td>\n",
       "      <td>grow adventurous kid explore world search imag...</td>\n",
       "      <td>grow adventurous kid explore world search imag...</td>\n",
       "    </tr>\n",
       "    <tr>\n",
       "      <th>4</th>\n",
       "      <td>4</td>\n",
       "      <td>405</td>\n",
       "      <td>Canvas is the first sustainable, plant-based b...</td>\n",
       "      <td>Food</td>\n",
       "      <td>Canvas</td>\n",
       "      <td>2017-08-31T20:00:00-04:00</td>\n",
       "      <td>Our story begins with the production of one ...</td>\n",
       "      <td>25000.0</td>\n",
       "      <td>https://www.kickstarter.com/projects/savetheba...</td>\n",
       "      <td>New York, NY</td>\n",
       "      <td>41845.0</td>\n",
       "      <td>Our team is committed to manufacturing the hig...</td>\n",
       "      <td>CANVAS: A Revolutionary New Beverage Made from...</td>\n",
       "      <td>NY</td>\n",
       "      <td>Our story begins with the production of one ...</td>\n",
       "      <td>story begin production world love beverage bee...</td>\n",
       "      <td>story begin production world love beverage bee...</td>\n",
       "    </tr>\n",
       "  </tbody>\n",
       "</table>\n",
       "</div>"
      ],
      "text/plain": [
       "   index Backers                                              Blurb  \\\n",
       "0      0   1,552  The simple, humorous and social travel-themed ...   \n",
       "1      1      86              Collaborative Community Mural Project   \n",
       "2      2     412  A performance rock climbing pant designed to c...   \n",
       "3      3     406  Embark on a journey filled with monsters and b...   \n",
       "4      4     405  Canvas is the first sustainable, plant-based b...   \n",
       "\n",
       "     Category             Creator                   Deadline  \\\n",
       "0       Games  Malachi Ray Rempen  2017-08-30T16:54:00-04:00   \n",
       "1         Art         Inga Loyeva  2017-09-12T15:23:44-04:00   \n",
       "2     Fashion          Wear Foehn  2017-08-20T11:52:09-04:00   \n",
       "3  Publishing       Crystal Sully  2017-09-09T12:29:59-04:00   \n",
       "4        Food              Canvas  2017-08-31T20:00:00-04:00   \n",
       "\n",
       "                                         Description     Goal  \\\n",
       "0                    We've also put up a robust o...  10000.0   \n",
       "1  783 million people worldwide lack access to cl...  14500.0   \n",
       "2                                                ...  10000.0   \n",
       "3            Growing up as an adventurous kid I u...   7535.0   \n",
       "4    Our story begins with the production of one ...  25000.0   \n",
       "\n",
       "                                                Link         Location  \\\n",
       "0  https://www.kickstarter.com/projects/malachi-r...  Berlin, Germany   \n",
       "1  https://www.kickstarter.com/projects/197327137...        Flint, MI   \n",
       "2  https://www.kickstarter.com/projects/170659982...   Quebec, Canada   \n",
       "3  https://www.kickstarter.com/projects/347008021...       Denver, CO   \n",
       "4  https://www.kickstarter.com/projects/savetheba...     New York, NY   \n",
       "\n",
       "    Pledged                                              Risks  \\\n",
       "0  45678.25  The game is finished and ready to go, so I'm c...   \n",
       "1   12045.0  The greatest challenge as an artist is managin...   \n",
       "2   71225.0  Unlike many other Kickstarter projects, our fi...   \n",
       "3   26025.0  As a two-person team this project has a lot of...   \n",
       "4   41845.0  Our team is committed to manufacturing the hig...   \n",
       "\n",
       "                                               Title State/Country  \\\n",
       "0                        Itchy Feet: the Travel Game       Germany   \n",
       "1                       Murals Across America: Flint            MI   \n",
       "2      THE BRISE PANT : A modern rock climbing pant.        Canada   \n",
       "3  The Untamed Beastiary: A Field Guide to Marvel...            CO   \n",
       "4  CANVAS: A Revolutionary New Beverage Made from...            NY   \n",
       "\n",
       "                                    Description+Risk  \\\n",
       "0                    We've also put up a robust o...   \n",
       "1  783 million people worldwide lack access to cl...   \n",
       "2                                                ...   \n",
       "3            Growing up as an adventurous kid I u...   \n",
       "4    Our story begins with the production of one ...   \n",
       "\n",
       "                                        bag_of_words  \\\n",
       "0  robust official website detailed rule video ne...   \n",
       "1  people worldwide lack access clean safe drinki...   \n",
       "2  unlike project production run pant underway po...   \n",
       "3  grow adventurous kid explore world search imag...   \n",
       "4  story begin production world love beverage bee...   \n",
       "\n",
       "                                      bag_of_words>2  \n",
       "0  robust official website detailed rule video pa...  \n",
       "1  people worldwide lack access clean safe drinki...  \n",
       "2  unlike project production run pant underway po...  \n",
       "3  grow adventurous kid explore world search imag...  \n",
       "4  story begin production world love beverage bee...  "
      ]
     },
     "execution_count": 123,
     "metadata": {},
     "output_type": "execute_result"
    }
   ],
   "source": [
    "kickstarter_df.reset_index(inplace=True)\n",
    "kickstarter_df.head()"
   ]
  },
  {
   "cell_type": "code",
   "execution_count": null,
   "metadata": {},
   "outputs": [],
   "source": []
  },
  {
   "cell_type": "code",
   "execution_count": null,
   "metadata": {},
   "outputs": [],
   "source": []
  },
  {
   "cell_type": "markdown",
   "metadata": {},
   "source": [
    "### Step 3: Vectorization"
   ]
  },
  {
   "cell_type": "code",
   "execution_count": 130,
   "metadata": {},
   "outputs": [],
   "source": [
    "from sklearn.feature_extraction.text import CountVectorizer\n",
    "from sklearn.feature_extraction.text import TfidfVectorizer"
   ]
  },
  {
   "cell_type": "code",
   "execution_count": 131,
   "metadata": {},
   "outputs": [],
   "source": [
    "vectorizer = CountVectorizer(max_features=5000)\n",
    "tfidf = TfidfVectorizer(max_features=5000)"
   ]
  },
  {
   "cell_type": "markdown",
   "metadata": {},
   "source": [
    "#### Count & TFIDF Vectorizer"
   ]
  },
  {
   "cell_type": "code",
   "execution_count": 134,
   "metadata": {},
   "outputs": [
    {
     "data": {
      "text/plain": [
       "(2855, 5000)"
      ]
     },
     "execution_count": 134,
     "metadata": {},
     "output_type": "execute_result"
    }
   ],
   "source": [
    "cv_fit=vectorizer.fit_transform(kickstarter_df['bag_of_words>2'].values.astype('U'))\n",
    "\n",
    "### Extract feature names and their counts in data frame \"count_vector\"\n",
    "count_vector = pd.DataFrame(cv_fit.A, columns=vectorizer.get_feature_names())\n",
    "count_vector.shape"
   ]
  },
  {
   "cell_type": "code",
   "execution_count": 129,
   "metadata": {},
   "outputs": [
    {
     "data": {
      "text/plain": [
       "(2855, 5000)"
      ]
     },
     "execution_count": 129,
     "metadata": {},
     "output_type": "execute_result"
    }
   ],
   "source": [
    "tfidf_fit=tfidf.fit_transform(kickstarter_df['bag_of_words>2'].values.astype('U'))\n",
    "\n",
    "TFIDF = pd.DataFrame(tfidf_fit.A, columns=tfidf.get_feature_names())\n",
    "TFIDF.shape"
   ]
  },
  {
   "cell_type": "markdown",
   "metadata": {},
   "source": [
    "### Topic modeling using Latent Dirichlet Allocation\n",
    "3 to 15 topics are modelled from the corpus"
   ]
  },
  {
   "cell_type": "code",
   "execution_count": 132,
   "metadata": {},
   "outputs": [],
   "source": [
    "from gensim import corpora, models, similarities, matutils"
   ]
  },
  {
   "cell_type": "code",
   "execution_count": null,
   "metadata": {},
   "outputs": [],
   "source": [
    "corpus_gensim_lda = matutils.Sparse2Corpus(cv_fit.transpose())\n",
    "id2word = dict((v, k) for k, v in vectorizer.vocabulary_.items())"
   ]
  },
  {
   "cell_type": "code",
   "execution_count": 509,
   "metadata": {},
   "outputs": [
    {
     "data": {
      "text/plain": [
       "array([[ 0.05722037,  0.        ,  0.94174711],\n",
       "       [ 0.        ,  0.616095  ,  0.38314954],\n",
       "       [ 0.97740117,  0.0114003 ,  0.01119853],\n",
       "       ..., \n",
       "       [ 0.        ,  0.31304407,  0.68566683],\n",
       "       [ 0.51339333,  0.4824359 ,  0.        ],\n",
       "       [ 0.        ,  0.42044384,  0.5776038 ]])"
      ]
     },
     "execution_count": 509,
     "metadata": {},
     "output_type": "execute_result"
    }
   ],
   "source": [
    "num_topics = 3\n",
    "lda3 = models.LdaModel(corpus=corpus_gensim_lda, \n",
    "                      num_topics=num_topics, \n",
    "                      id2word=id2word, \n",
    "                      passes=30)\n",
    "print ('model done')\n",
    "lda3.print_topics()\n",
    "lda_corpus3 = lda3[corpus_gensim_lda]\n",
    "lda_docs3 = [doc for doc in lda_corpus3]\n",
    "\n",
    "kickstarter_topic3 = np.zeros(shape=(count_vector.shape[0], 3))\n",
    "for index, doc in enumerate(lda_docs3):\n",
    "    for topic in doc:\n",
    "        if topic[0] == 0:\n",
    "            kickstarter_topic3[index][0] = topic[1]\n",
    "        elif topic[0] == 1:\n",
    "            kickstarter_topic3[index][1] = topic[1]\n",
    "        elif topic[0] == 2:\n",
    "            kickstarter_topic3[index][2] = topic[1]\n",
    "        else:\n",
    "            continue\n",
    "\n",
    "kickstarter_topic3\n",
    "print ('matrix done')"
   ]
  },
  {
   "cell_type": "code",
   "execution_count": 510,
   "metadata": {},
   "outputs": [
    {
     "data": {
      "text/plain": [
       "array([[ 0.        ,  0.        ,  0.19826368,  0.80092656],\n",
       "       [ 0.15580352,  0.03861232,  0.69285254,  0.11273162],\n",
       "       [ 0.58963705,  0.        ,  0.        ,  0.39617157],\n",
       "       ..., \n",
       "       [ 0.        ,  0.        ,  0.87211604,  0.12613036],\n",
       "       [ 0.39154042,  0.49687797,  0.10922643,  0.        ],\n",
       "       [ 0.        ,  0.07710593,  0.92016252,  0.        ]])"
      ]
     },
     "execution_count": 510,
     "metadata": {},
     "output_type": "execute_result"
    }
   ],
   "source": [
    "num_topics = 4\n",
    "lda4 = models.LdaModel(corpus=corpus_gensim_lda, \n",
    "                      num_topics=num_topics, \n",
    "                      id2word=id2word, \n",
    "                      passes=30)\n",
    "print ('model done')\n",
    "lda4.print_topics()\n",
    "lda_corpus4 = lda4[corpus_gensim_lda]\n",
    "lda_docs4 = [doc for doc in lda_corpus4]\n",
    "\n",
    "kickstarter_topic4 = np.zeros(shape=(count_vector.shape[0], 4))\n",
    "for index, doc in enumerate(lda_docs4):\n",
    "    for topic in doc:\n",
    "        if topic[0] == 0:\n",
    "            kickstarter_topic4[index][0] = topic[1]\n",
    "        elif topic[0] == 1:\n",
    "            kickstarter_topic4[index][1] = topic[1]\n",
    "        elif topic[0] == 2:\n",
    "            kickstarter_topic4[index][2] = topic[1]\n",
    "        elif topic[0] == 3:\n",
    "            kickstarter_topic4[index][3] = topic[1]\n",
    "        else:\n",
    "            continue\n",
    "\n",
    "kickstarter_topic4\n",
    "print ('matrix done')"
   ]
  },
  {
   "cell_type": "code",
   "execution_count": 511,
   "metadata": {},
   "outputs": [
    {
     "name": "stdout",
     "output_type": "stream",
     "text": [
      "model done\n",
      "matrix done\n"
     ]
    }
   ],
   "source": [
    "num_topics = 5\n",
    "lda5 = models.LdaModel(corpus=corpus_gensim_lda, \n",
    "                      num_topics=num_topics, \n",
    "                      id2word=id2word, \n",
    "                      passes=30)\n",
    "print ('model done')\n",
    "lda5.print_topics()\n",
    "lda_corpus5 = lda5[corpus_gensim_lda]\n",
    "lda_docs5 = [doc for doc in lda_corpus5]\n",
    "\n",
    "kickstarter_topic5 = np.zeros(shape=(count_vector.shape[0], 5))\n",
    "for index, doc in enumerate(lda_docs5):\n",
    "    for topic in doc:\n",
    "        if topic[0] == 0:\n",
    "            kickstarter_topic5[index][0] = topic[1]\n",
    "        elif topic[0] == 1:\n",
    "            kickstarter_topic5[index][1] = topic[1]\n",
    "        elif topic[0] == 2:\n",
    "            kickstarter_topic5[index][2] = topic[1]\n",
    "        elif topic[0] == 3:\n",
    "            kickstarter_topic5[index][3] = topic[1]\n",
    "        elif topic[0] == 4:\n",
    "            kickstarter_topic5[index][4] = topic[1]\n",
    "        else:\n",
    "            continue\n",
    "\n",
    "kickstarter_topic5\n",
    "print ('matrix done')"
   ]
  },
  {
   "cell_type": "code",
   "execution_count": 512,
   "metadata": {},
   "outputs": [
    {
     "name": "stdout",
     "output_type": "stream",
     "text": [
      "model done\n",
      "matrix done\n"
     ]
    }
   ],
   "source": [
    "num_topics = 6\n",
    "lda6 = models.LdaModel(corpus=corpus_gensim_lda, \n",
    "                      num_topics=num_topics, \n",
    "                      id2word=id2word, \n",
    "                      passes=30)\n",
    "print ('model done')\n",
    "lda6.print_topics()\n",
    "lda_corpus6 = lda6[corpus_gensim_lda]\n",
    "lda_docs6 = [doc for doc in lda_corpus6]\n",
    "\n",
    "kickstarter_topic6 = np.zeros(shape=(count_vector.shape[0], 6))\n",
    "for index, doc in enumerate(lda_docs6):\n",
    "    for topic in doc:\n",
    "        if topic[0] == 0:\n",
    "            kickstarter_topic6[index][0] = topic[1]\n",
    "        elif topic[0] == 1:\n",
    "            kickstarter_topic6[index][1] = topic[1]\n",
    "        elif topic[0] == 2:\n",
    "            kickstarter_topic6[index][2] = topic[1]\n",
    "        elif topic[0] == 3:\n",
    "            kickstarter_topic6[index][3] = topic[1]\n",
    "        elif topic[0] == 4:\n",
    "            kickstarter_topic6[index][4] = topic[1]\n",
    "        elif topic[0] == 5:\n",
    "            kickstarter_topic6[index][5] = topic[1]\n",
    "        else:\n",
    "            continue\n",
    "\n",
    "kickstarter_topic6\n",
    "print ('matrix done')"
   ]
  },
  {
   "cell_type": "code",
   "execution_count": 513,
   "metadata": {},
   "outputs": [
    {
     "name": "stdout",
     "output_type": "stream",
     "text": [
      "model done\n",
      "matrix done\n"
     ]
    }
   ],
   "source": [
    "num_topics = 7\n",
    "lda7 = models.LdaModel(corpus=corpus_gensim_lda, \n",
    "                      num_topics=num_topics, \n",
    "                      id2word=id2word, \n",
    "                      passes=30)\n",
    "print ('model done')\n",
    "lda7.print_topics()\n",
    "lda_corpus7 = lda7[corpus_gensim_lda]\n",
    "lda_docs7 = [doc for doc in lda_corpus7]\n",
    "\n",
    "kickstarter_topic7 = np.zeros(shape=(count_vector.shape[0], 7))\n",
    "for index, doc in enumerate(lda_docs7):\n",
    "    for topic in doc:\n",
    "        if topic[0] == 0:\n",
    "            kickstarter_topic7[index][0] = topic[1]\n",
    "        elif topic[0] == 1:\n",
    "            kickstarter_topic7[index][1] = topic[1]\n",
    "        elif topic[0] == 2:\n",
    "            kickstarter_topic7[index][2] = topic[1]\n",
    "        elif topic[0] == 3:\n",
    "            kickstarter_topic7[index][3] = topic[1]\n",
    "        elif topic[0] == 4:\n",
    "            kickstarter_topic7[index][4] = topic[1]\n",
    "        elif topic[0] == 5:\n",
    "            kickstarter_topic7[index][5] = topic[1]\n",
    "        elif topic[0] == 6:\n",
    "            kickstarter_topic7[index][6] = topic[1]\n",
    "        else:\n",
    "            continue\n",
    "\n",
    "kickstarter_topic7\n",
    "print ('matrix done')"
   ]
  },
  {
   "cell_type": "code",
   "execution_count": 514,
   "metadata": {},
   "outputs": [
    {
     "name": "stdout",
     "output_type": "stream",
     "text": [
      "model done\n",
      "matrix done\n"
     ]
    }
   ],
   "source": [
    "num_topics = 8\n",
    "lda8 = models.LdaModel(corpus=corpus_gensim_lda, \n",
    "                      num_topics=num_topics, \n",
    "                      id2word=id2word, \n",
    "                      passes=30)\n",
    "print ('model done')\n",
    "lda8.print_topics()\n",
    "lda_corpus8 = lda8[corpus_gensim_lda]\n",
    "lda_docs8 = [doc for doc in lda_corpus8]\n",
    "\n",
    "kickstarter_topic8 = np.zeros(shape=(count_vector.shape[0], 8))\n",
    "for index, doc in enumerate(lda_docs8):\n",
    "    for topic in doc:\n",
    "        if topic[0] == 0:\n",
    "            kickstarter_topic8[index][0] = topic[1]\n",
    "        elif topic[0] == 1:\n",
    "            kickstarter_topic8[index][1] = topic[1]\n",
    "        elif topic[0] == 2:\n",
    "            kickstarter_topic8[index][2] = topic[1]\n",
    "        elif topic[0] == 3:\n",
    "            kickstarter_topic8[index][3] = topic[1]\n",
    "        elif topic[0] == 4:\n",
    "            kickstarter_topic8[index][4] = topic[1]\n",
    "        elif topic[0] == 5:\n",
    "            kickstarter_topic8[index][5] = topic[1]\n",
    "        elif topic[0] == 6:\n",
    "            kickstarter_topic8[index][6] = topic[1]\n",
    "        elif topic[0] == 7:\n",
    "            kickstarter_topic8[index][7] = topic[1]\n",
    "        else:\n",
    "            continue\n",
    "\n",
    "kickstarter_topic8\n",
    "print ('matrix done')"
   ]
  },
  {
   "cell_type": "code",
   "execution_count": 515,
   "metadata": {},
   "outputs": [
    {
     "name": "stdout",
     "output_type": "stream",
     "text": [
      "model done\n",
      "matrix done\n"
     ]
    }
   ],
   "source": [
    "num_topics = 9\n",
    "lda9 = models.LdaModel(corpus=corpus_gensim_lda, \n",
    "                      num_topics=num_topics, \n",
    "                      id2word=id2word, \n",
    "                      passes=30)\n",
    "print ('model done')\n",
    "lda9.print_topics()\n",
    "lda_corpus9 = lda9[corpus_gensim_lda]\n",
    "lda_docs9 = [doc for doc in lda_corpus9]\n",
    "\n",
    "kickstarter_topic9 = np.zeros(shape=(count_vector.shape[0], 9))\n",
    "for index, doc in enumerate(lda_docs9):\n",
    "    for topic in doc:\n",
    "        if topic[0] == 0:\n",
    "            kickstarter_topic9[index][0] = topic[1]\n",
    "        elif topic[0] == 1:\n",
    "            kickstarter_topic9[index][1] = topic[1]\n",
    "        elif topic[0] == 2:\n",
    "            kickstarter_topic9[index][2] = topic[1]\n",
    "        elif topic[0] == 3:\n",
    "            kickstarter_topic9[index][3] = topic[1]\n",
    "        elif topic[0] == 4:\n",
    "            kickstarter_topic9[index][4] = topic[1]\n",
    "        elif topic[0] == 5:\n",
    "            kickstarter_topic9[index][5] = topic[1]\n",
    "        elif topic[0] == 6:\n",
    "            kickstarter_topic9[index][6] = topic[1]\n",
    "        elif topic[0] == 7:\n",
    "            kickstarter_topic9[index][7] = topic[1]\n",
    "        elif topic[0] == 8:\n",
    "            kickstarter_topic9[index][8] = topic[1]\n",
    "        else:\n",
    "            continue\n",
    "\n",
    "kickstarter_topic9\n",
    "print ('matrix done')"
   ]
  },
  {
   "cell_type": "code",
   "execution_count": 516,
   "metadata": {},
   "outputs": [
    {
     "name": "stdout",
     "output_type": "stream",
     "text": [
      "model done\n",
      "matrix done\n"
     ]
    }
   ],
   "source": [
    "num_topics = 10\n",
    "lda10 = models.LdaModel(corpus=corpus_gensim_lda, \n",
    "                      num_topics=num_topics, \n",
    "                      id2word=id2word, \n",
    "                      passes=30)\n",
    "print ('model done')\n",
    "lda10.print_topics()\n",
    "lda_corpus10 = lda10[corpus_gensim_lda]\n",
    "lda_docs10 = [doc for doc in lda_corpus10]\n",
    "\n",
    "kickstarter_topic10 = np.zeros(shape=(count_vector.shape[0], 10))\n",
    "for index, doc in enumerate(lda_docs10):\n",
    "    for topic in doc:\n",
    "        if topic[0] == 0:\n",
    "            kickstarter_topic10[index][0] = topic[1]\n",
    "        elif topic[0] == 1:\n",
    "            kickstarter_topic10[index][1] = topic[1]\n",
    "        elif topic[0] == 2:\n",
    "            kickstarter_topic10[index][2] = topic[1]\n",
    "        elif topic[0] == 3:\n",
    "            kickstarter_topic10[index][3] = topic[1]\n",
    "        elif topic[0] == 4:\n",
    "            kickstarter_topic10[index][4] = topic[1]\n",
    "        elif topic[0] == 5:\n",
    "            kickstarter_topic10[index][5] = topic[1]\n",
    "        elif topic[0] == 6:\n",
    "            kickstarter_topic10[index][6] = topic[1]\n",
    "        elif topic[0] == 7:\n",
    "            kickstarter_topic10[index][7] = topic[1]\n",
    "        elif topic[0] == 8:\n",
    "            kickstarter_topic10[index][8] = topic[1]\n",
    "        elif topic[0] == 9:\n",
    "            kickstarter_topic10[index][9] = topic[1]\n",
    "        else:\n",
    "            continue\n",
    "\n",
    "kickstarter_topic10\n",
    "print ('matrix done')"
   ]
  },
  {
   "cell_type": "code",
   "execution_count": 530,
   "metadata": {},
   "outputs": [
    {
     "name": "stdout",
     "output_type": "stream",
     "text": [
      "model done\n",
      "matrix done\n"
     ]
    }
   ],
   "source": [
    "num_topics = 11\n",
    "lda11 = models.LdaModel(corpus=corpus_gensim_lda, \n",
    "                      num_topics=num_topics, \n",
    "                      id2word=id2word, \n",
    "                      passes=30)\n",
    "print ('model done')\n",
    "lda11.print_topics()\n",
    "lda_corpus11 = lda11[corpus_gensim_lda]\n",
    "lda_docs11 = [doc for doc in lda_corpus11]\n",
    "\n",
    "kickstarter_topic11 = np.zeros(shape=(count_vector.shape[0], 11))\n",
    "for index, doc in enumerate(lda_docs11):\n",
    "    for topic in doc:\n",
    "        if topic[0] == 0:\n",
    "            kickstarter_topic11[index][0] = topic[1]\n",
    "        elif topic[0] == 1:\n",
    "            kickstarter_topic11[index][1] = topic[1]\n",
    "        elif topic[0] == 2:\n",
    "            kickstarter_topic11[index][2] = topic[1]\n",
    "        elif topic[0] == 3:\n",
    "            kickstarter_topic11[index][3] = topic[1]\n",
    "        elif topic[0] == 4:\n",
    "            kickstarter_topic11[index][4] = topic[1]\n",
    "        elif topic[0] == 5:\n",
    "            kickstarter_topic11[index][5] = topic[1]\n",
    "        elif topic[0] == 6:\n",
    "            kickstarter_topic11[index][6] = topic[1]\n",
    "        elif topic[0] == 7:\n",
    "            kickstarter_topic11[index][7] = topic[1]\n",
    "        elif topic[0] == 8:\n",
    "            kickstarter_topic11[index][8] = topic[1]\n",
    "        elif topic[0] == 9:\n",
    "            kickstarter_topic11[index][9] = topic[1]\n",
    "        elif topic[0] == 10:\n",
    "            kickstarter_topic11[index][10] = topic[1]\n",
    "        else:\n",
    "            continue\n",
    "\n",
    "kickstarter_topic11\n",
    "print ('matrix done')"
   ]
  },
  {
   "cell_type": "code",
   "execution_count": 531,
   "metadata": {},
   "outputs": [
    {
     "name": "stdout",
     "output_type": "stream",
     "text": [
      "model done\n",
      "matrix done\n"
     ]
    }
   ],
   "source": [
    "num_topics = 12\n",
    "lda12 = models.LdaModel(corpus=corpus_gensim_lda, \n",
    "                      num_topics=num_topics, \n",
    "                      id2word=id2word, \n",
    "                      passes=30)\n",
    "print ('model done')\n",
    "lda12.print_topics()\n",
    "lda_corpus12 = lda12[corpus_gensim_lda]\n",
    "lda_docs12 = [doc for doc in lda_corpus12]\n",
    "\n",
    "kickstarter_topic12 = np.zeros(shape=(count_vector.shape[0], 12))\n",
    "for index, doc in enumerate(lda_docs12):\n",
    "    for topic in doc:\n",
    "        if topic[0] == 0:\n",
    "            kickstarter_topic12[index][0] = topic[1]\n",
    "        elif topic[0] == 1:\n",
    "            kickstarter_topic12[index][1] = topic[1]\n",
    "        elif topic[0] == 2:\n",
    "            kickstarter_topic12[index][2] = topic[1]\n",
    "        elif topic[0] == 3:\n",
    "            kickstarter_topic12[index][3] = topic[1]\n",
    "        elif topic[0] == 4:\n",
    "            kickstarter_topic12[index][4] = topic[1]\n",
    "        elif topic[0] == 5:\n",
    "            kickstarter_topic12[index][5] = topic[1]\n",
    "        elif topic[0] == 6:\n",
    "            kickstarter_topic12[index][6] = topic[1]\n",
    "        elif topic[0] == 7:\n",
    "            kickstarter_topic12[index][7] = topic[1]\n",
    "        elif topic[0] == 8:\n",
    "            kickstarter_topic12[index][8] = topic[1]\n",
    "        elif topic[0] == 9:\n",
    "            kickstarter_topic12[index][9] = topic[1]\n",
    "        elif topic[0] == 10:\n",
    "            kickstarter_topic12[index][10] = topic[1]\n",
    "        elif topic[0] == 11:\n",
    "            kickstarter_topic12[index][11] = topic[1]\n",
    "        else:\n",
    "            continue\n",
    "\n",
    "kickstarter_topic12\n",
    "print ('matrix done')"
   ]
  },
  {
   "cell_type": "code",
   "execution_count": 532,
   "metadata": {},
   "outputs": [
    {
     "name": "stdout",
     "output_type": "stream",
     "text": [
      "model done\n",
      "matrix done\n"
     ]
    }
   ],
   "source": [
    "num_topics = 13\n",
    "lda13 = models.LdaModel(corpus=corpus_gensim_lda, \n",
    "                      num_topics=num_topics, \n",
    "                      id2word=id2word, \n",
    "                      passes=30)\n",
    "print ('model done')\n",
    "lda13.print_topics()\n",
    "lda_corpus13 = lda13[corpus_gensim_lda]\n",
    "lda_docs13 = [doc for doc in lda_corpus13]\n",
    "\n",
    "kickstarter_topic13 = np.zeros(shape=(count_vector.shape[0], 13))\n",
    "for index, doc in enumerate(lda_docs13):\n",
    "    for topic in doc:\n",
    "        if topic[0] == 0:\n",
    "            kickstarter_topic13[index][0] = topic[1]\n",
    "        elif topic[0] == 1:\n",
    "            kickstarter_topic13[index][1] = topic[1]\n",
    "        elif topic[0] == 2:\n",
    "            kickstarter_topic13[index][2] = topic[1]\n",
    "        elif topic[0] == 3:\n",
    "            kickstarter_topic13[index][3] = topic[1]\n",
    "        elif topic[0] == 4:\n",
    "            kickstarter_topic13[index][4] = topic[1]\n",
    "        elif topic[0] == 5:\n",
    "            kickstarter_topic13[index][5] = topic[1]\n",
    "        elif topic[0] == 6:\n",
    "            kickstarter_topic13[index][6] = topic[1]\n",
    "        elif topic[0] == 7:\n",
    "            kickstarter_topic13[index][7] = topic[1]\n",
    "        elif topic[0] == 8:\n",
    "            kickstarter_topic13[index][8] = topic[1]\n",
    "        elif topic[0] == 9:\n",
    "            kickstarter_topic13[index][9] = topic[1]\n",
    "        elif topic[0] == 10:\n",
    "            kickstarter_topic13[index][10] = topic[1]\n",
    "        elif topic[0] == 11:\n",
    "            kickstarter_topic13[index][11] = topic[1]\n",
    "        elif topic[0] == 12:\n",
    "            kickstarter_topic13[index][12] = topic[1]\n",
    "        else:\n",
    "            continue\n",
    "\n",
    "kickstarter_topic13\n",
    "print ('matrix done')"
   ]
  },
  {
   "cell_type": "code",
   "execution_count": 533,
   "metadata": {},
   "outputs": [
    {
     "name": "stdout",
     "output_type": "stream",
     "text": [
      "model done\n",
      "matrix done\n"
     ]
    }
   ],
   "source": [
    "num_topics = 14\n",
    "lda14 = models.LdaModel(corpus=corpus_gensim_lda, \n",
    "                      num_topics=num_topics, \n",
    "                      id2word=id2word, \n",
    "                      passes=30)\n",
    "print ('model done')\n",
    "lda14.print_topics()\n",
    "lda_corpus14 = lda14[corpus_gensim_lda]\n",
    "lda_docs14 = [doc for doc in lda_corpus14]\n",
    "\n",
    "kickstarter_topic14 = np.zeros(shape=(count_vector.shape[0], 14))\n",
    "for index, doc in enumerate(lda_docs14):\n",
    "    for topic in doc:\n",
    "        if topic[0] == 0:\n",
    "            kickstarter_topic14[index][0] = topic[1]\n",
    "        elif topic[0] == 1:\n",
    "            kickstarter_topic14[index][1] = topic[1]\n",
    "        elif topic[0] == 2:\n",
    "            kickstarter_topic14[index][2] = topic[1]\n",
    "        elif topic[0] == 3:\n",
    "            kickstarter_topic14[index][3] = topic[1]\n",
    "        elif topic[0] == 4:\n",
    "            kickstarter_topic14[index][4] = topic[1]\n",
    "        elif topic[0] == 5:\n",
    "            kickstarter_topic14[index][5] = topic[1]\n",
    "        elif topic[0] == 6:\n",
    "            kickstarter_topic14[index][6] = topic[1]\n",
    "        elif topic[0] == 7:\n",
    "            kickstarter_topic14[index][7] = topic[1]\n",
    "        elif topic[0] == 8:\n",
    "            kickstarter_topic14[index][8] = topic[1]\n",
    "        elif topic[0] == 9:\n",
    "            kickstarter_topic14[index][9] = topic[1]\n",
    "        elif topic[0] == 10:\n",
    "            kickstarter_topic14[index][10] = topic[1]\n",
    "        elif topic[0] == 11:\n",
    "            kickstarter_topic14[index][11] = topic[1]\n",
    "        elif topic[0] == 12:\n",
    "            kickstarter_topic14[index][12] = topic[1]\n",
    "        elif topic[0] == 13:\n",
    "            kickstarter_topic14[index][13] = topic[1]\n",
    "            \n",
    "        else:\n",
    "            continue\n",
    "\n",
    "kickstarter_topic14\n",
    "print ('matrix done')"
   ]
  },
  {
   "cell_type": "code",
   "execution_count": 534,
   "metadata": {},
   "outputs": [
    {
     "name": "stdout",
     "output_type": "stream",
     "text": [
      "model done\n",
      "matrix done\n"
     ]
    }
   ],
   "source": [
    "num_topics = 15\n",
    "lda15 = models.LdaModel(corpus=corpus_gensim_lda, \n",
    "                      num_topics=num_topics, \n",
    "                      id2word=id2word, \n",
    "                      passes=30)\n",
    "print ('model done')\n",
    "lda15.print_topics()\n",
    "lda_corpus15 = lda15[corpus_gensim_lda]\n",
    "lda_docs15 = [doc for doc in lda_corpus15]\n",
    "\n",
    "kickstarter_topic15 = np.zeros(shape=(count_vector.shape[0], 15))\n",
    "for index, doc in enumerate(lda_docs15):\n",
    "    for topic in doc:\n",
    "        if topic[0] == 0:\n",
    "            kickstarter_topic15[index][0] = topic[1]\n",
    "        elif topic[0] == 1:\n",
    "            kickstarter_topic15[index][1] = topic[1]\n",
    "        elif topic[0] == 2:\n",
    "            kickstarter_topic15[index][2] = topic[1]\n",
    "        elif topic[0] == 3:\n",
    "            kickstarter_topic15[index][3] = topic[1]\n",
    "        elif topic[0] == 4:\n",
    "            kickstarter_topic15[index][4] = topic[1]\n",
    "        elif topic[0] == 5:\n",
    "            kickstarter_topic15[index][5] = topic[1]\n",
    "        elif topic[0] == 6:\n",
    "            kickstarter_topic15[index][6] = topic[1]\n",
    "        elif topic[0] == 7:\n",
    "            kickstarter_topic15[index][7] = topic[1]\n",
    "        elif topic[0] == 8:\n",
    "            kickstarter_topic15[index][8] = topic[1]\n",
    "        elif topic[0] == 9:\n",
    "            kickstarter_topic15[index][9] = topic[1]\n",
    "        elif topic[0] == 10:\n",
    "            kickstarter_topic15[index][10] = topic[1]\n",
    "        elif topic[0] == 11:\n",
    "            kickstarter_topic15[index][11] = topic[1]\n",
    "        elif topic[0] == 12:\n",
    "            kickstarter_topic15[index][12] = topic[1]\n",
    "        elif topic[0] == 13:\n",
    "            kickstarter_topic15[index][13] = topic[1]\n",
    "        elif topic[0] == 14:\n",
    "            kickstarter_topic15[index][14] = topic[1]\n",
    "            \n",
    "        else:\n",
    "            continue\n",
    "\n",
    "kickstarter_topic15\n",
    "print ('matrix done')"
   ]
  },
  {
   "cell_type": "markdown",
   "metadata": {},
   "source": [
    "### Clustering of the projects of belonging to the topics generated by LDA"
   ]
  },
  {
   "cell_type": "code",
   "execution_count": 543,
   "metadata": {
    "collapsed": true
   },
   "outputs": [],
   "source": [
    "from sklearn.cluster import KMeans\n",
    "from sklearn.metrics import silhouette_score"
   ]
  },
  {
   "cell_type": "code",
   "execution_count": 573,
   "metadata": {
    "collapsed": true
   },
   "outputs": [],
   "source": [
    "ns = np.arange(2, 30, 1)\n",
    "inertias = []\n",
    "Sil_coefs = []\n",
    "for n in ns:\n",
    "    kmeans = KMeans(n_clusters=n, random_state=81617).fit(kickstarter_topic3)\n",
    "    inertias.append(kmeans.inertia_)\n",
    "    labels = kmeans.labels_\n",
    "    Sil_coefs.append(silhouette_score(kickstarter_topic3, labels, metric='euclidean'))"
   ]
  },
  {
   "cell_type": "code",
   "execution_count": 574,
   "metadata": {
    "collapsed": true
   },
   "outputs": [],
   "source": [
    "inertia_modified = [inertia/100 for inertia in inertias]"
   ]
  },
  {
   "cell_type": "code",
   "execution_count": 575,
   "metadata": {},
   "outputs": [
    {
     "data": {
      "text/plain": [
       "<matplotlib.text.Text at 0x11c480e10>"
      ]
     },
     "execution_count": 575,
     "metadata": {},
     "output_type": "execute_result"
    },
    {
     "data": {
      "image/png": "[encoded data removed]",
      "text/plain": [
       "<matplotlib.figure.Figure at 0x11f7a5810>"
      ]
     },
     "metadata": {},
     "output_type": "display_data"
    }
   ],
   "source": [
    "plt.title(\"k-means clustering for different k's (3topics)\")\n",
    "plt.subplot(2,1,1)\n",
    "plt.plot(ns, inertia_modified)\n",
    "plt.xlabel('n_cluster')\n",
    "plt.ylabel('Inertia')\n",
    "plt.title(\"k-means clustering for different k's (3topics)\")\n",
    "\n",
    "plt.subplot(2,1,2)\n",
    "plt.plot(ns, Sil_coefs)\n",
    "plt.xlabel('No. of clusters')\n",
    "plt.ylabel('Sihouette score')"
   ]
  },
  {
   "cell_type": "code",
   "execution_count": 576,
   "metadata": {
    "collapsed": true
   },
   "outputs": [],
   "source": [
    "ns = np.arange(2, 30, 1)\n",
    "inertias = []\n",
    "Sil_coefs = []\n",
    "for n in ns:\n",
    "    kmeans = KMeans(n_clusters=n, random_state=81617).fit(kickstarter_topic4)\n",
    "    inertias.append(kmeans.inertia_)\n",
    "    labels = kmeans.labels_\n",
    "    Sil_coefs.append(silhouette_score(kickstarter_topic4, labels, metric='euclidean'))"
   ]
  },
  {
   "cell_type": "code",
   "execution_count": 577,
   "metadata": {
    "collapsed": true
   },
   "outputs": [],
   "source": [
    "inertia_modified = [inertia/100 for inertia in inertias]"
   ]
  },
  {
   "cell_type": "code",
   "execution_count": 578,
   "metadata": {},
   "outputs": [
    {
     "data": {
      "text/plain": [
       "<matplotlib.text.Text at 0x11dbfb490>"
      ]
     },
     "execution_count": 578,
     "metadata": {},
     "output_type": "execute_result"
    },
    {
     "data": {
      "image/png": "[encoded data removed]",
      "text/plain": [
       "<matplotlib.figure.Figure at 0x1211b8690>"
      ]
     },
     "metadata": {},
     "output_type": "display_data"
    }
   ],
   "source": [
    "plt.title(\"k-means clustering for different k's (4 topics)\")\n",
    "plt.subplot(2,1,1)\n",
    "plt.plot(ns, inertia_modified)\n",
    "plt.xlabel('n_cluster')\n",
    "plt.ylabel('Inertia')\n",
    "plt.title(\"k-means clustering for different k's (4 topics)\")\n",
    "\n",
    "plt.subplot(2,1,2)\n",
    "plt.plot(ns, Sil_coefs)\n",
    "plt.xlabel('No. of clusters')\n",
    "plt.ylabel('Sihouette score')"
   ]
  },
  {
   "cell_type": "code",
   "execution_count": 580,
   "metadata": {
    "collapsed": true
   },
   "outputs": [],
   "source": [
    "ns = np.arange(2, 30, 1)\n",
    "inertias = []\n",
    "Sil_coefs = []\n",
    "for n in ns:\n",
    "    kmeans = KMeans(n_clusters=n, random_state=81617).fit(kickstarter_topic5)\n",
    "    inertias.append(kmeans.inertia_)\n",
    "    labels = kmeans.labels_\n",
    "    Sil_coefs.append(silhouette_score(kickstarter_topic5, labels, metric='euclidean'))"
   ]
  },
  {
   "cell_type": "code",
   "execution_count": 581,
   "metadata": {
    "collapsed": true
   },
   "outputs": [],
   "source": [
    "inertia_modified = [inertia/100 for inertia in inertias]"
   ]
  },
  {
   "cell_type": "code",
   "execution_count": 583,
   "metadata": {},
   "outputs": [
    {
     "data": {
      "text/plain": [
       "<matplotlib.text.Text at 0x1212f0fd0>"
      ]
     },
     "execution_count": 583,
     "metadata": {},
     "output_type": "execute_result"
    },
    {
     "data": {
      "image/png": "[encoded data removed]",
      "text/plain": [
       "<matplotlib.figure.Figure at 0x11aac8810>"
      ]
     },
     "metadata": {},
     "output_type": "display_data"
    }
   ],
   "source": [
    "plt.title(\"k-means clustering for different k's(5topics)\")\n",
    "plt.subplot(2,1,1)\n",
    "plt.plot(ns, inertia_modified)\n",
    "plt.xlabel('n_cluster')\n",
    "plt.ylabel('Inertia')\n",
    "plt.title(\"k-means clustering for different k's (5topics)\")\n",
    "\n",
    "plt.subplot(2,1,2)\n",
    "plt.plot(ns, Sil_coefs)\n",
    "plt.xlabel('No. of clusters')\n",
    "plt.ylabel('Sihouette score')"
   ]
  },
  {
   "cell_type": "code",
   "execution_count": 584,
   "metadata": {
    "collapsed": true
   },
   "outputs": [],
   "source": [
    "ns = np.arange(2, 30, 1)\n",
    "inertias = []\n",
    "Sil_coefs = []\n",
    "for n in ns:\n",
    "    kmeans = KMeans(n_clusters=n, random_state=81617).fit(kickstarter_topic6)\n",
    "    inertias.append(kmeans.inertia_)\n",
    "    labels = kmeans.labels_\n",
    "    Sil_coefs.append(silhouette_score(kickstarter_topic6, labels, metric='euclidean'))"
   ]
  },
  {
   "cell_type": "code",
   "execution_count": 585,
   "metadata": {
    "collapsed": true
   },
   "outputs": [],
   "source": [
    "inertia_modified = [inertia/100 for inertia in inertias]"
   ]
  },
  {
   "cell_type": "code",
   "execution_count": 586,
   "metadata": {},
   "outputs": [
    {
     "data": {
      "text/plain": [
       "<matplotlib.text.Text at 0x11f706450>"
      ]
     },
     "execution_count": 586,
     "metadata": {},
     "output_type": "execute_result"
    },
    {
     "data": {
      "image/png": "[encoded data removed]",
      "text/plain": [
       "<matplotlib.figure.Figure at 0x11ff02350>"
      ]
     },
     "metadata": {},
     "output_type": "display_data"
    }
   ],
   "source": [
    "plt.title(\"k-means clustering for different k's(6topics)\")\n",
    "plt.subplot(2,1,1)\n",
    "plt.plot(ns, inertia_modified)\n",
    "plt.xlabel('n_cluster')\n",
    "plt.ylabel('Inertia')\n",
    "plt.title(\"k-means clustering for different k's(6topics)\")\n",
    "\n",
    "plt.subplot(2,1,2)\n",
    "plt.plot(ns, Sil_coefs)\n",
    "plt.xlabel('No. of clusters')\n",
    "plt.ylabel('Sihouette score')"
   ]
  },
  {
   "cell_type": "code",
   "execution_count": 593,
   "metadata": {
    "collapsed": true
   },
   "outputs": [],
   "source": [
    "ns = np.arange(2, 30, 1)\n",
    "inertias = []\n",
    "Sil_coefs = []\n",
    "for n in ns:\n",
    "    kmeans = KMeans(n_clusters=n, random_state=81617).fit(kickstarter_topic7)\n",
    "    inertias.append(kmeans.inertia_)\n",
    "    labels = kmeans.labels_\n",
    "    Sil_coefs.append(silhouette_score(kickstarter_topic7, labels, metric='euclidean'))"
   ]
  },
  {
   "cell_type": "code",
   "execution_count": 594,
   "metadata": {
    "collapsed": true
   },
   "outputs": [],
   "source": [
    "inertia_modified = [inertia/100 for inertia in inertias]"
   ]
  },
  {
   "cell_type": "code",
   "execution_count": 595,
   "metadata": {},
   "outputs": [
    {
     "data": {
      "text/plain": [
       "<matplotlib.text.Text at 0x11c509ad0>"
      ]
     },
     "execution_count": 595,
     "metadata": {},
     "output_type": "execute_result"
    },
    {
     "data": {
      "image/png": "[encoded data removed]",
      "text/plain": [
       "<matplotlib.figure.Figure at 0x11dcc4590>"
      ]
     },
     "metadata": {},
     "output_type": "display_data"
    }
   ],
   "source": [
    "plt.title(\"k-means clustering for different k's(7topics)\")\n",
    "plt.subplot(2,1,1)\n",
    "plt.plot(ns, inertia_modified)\n",
    "plt.xlabel('n_cluster')\n",
    "plt.ylabel('Inertia')\n",
    "plt.title(\"k-means clustering for different k's(7topics)\")\n",
    "\n",
    "plt.subplot(2,1,2)\n",
    "plt.plot(ns, Sil_coefs)\n",
    "plt.xlabel('No. of clusters')\n",
    "plt.ylabel('Sihouette score')"
   ]
  },
  {
   "cell_type": "code",
   "execution_count": 590,
   "metadata": {
    "collapsed": true
   },
   "outputs": [],
   "source": [
    "ns = np.arange(2, 30, 1)\n",
    "inertias = []\n",
    "Sil_coefs = []\n",
    "for n in ns:\n",
    "    kmeans = KMeans(n_clusters=n, random_state=81617).fit(kickstarter_topic8)\n",
    "    inertias.append(kmeans.inertia_)\n",
    "    labels = kmeans.labels_\n",
    "    Sil_coefs.append(silhouette_score(kickstarter_topic8, labels, metric='euclidean'))"
   ]
  },
  {
   "cell_type": "code",
   "execution_count": 591,
   "metadata": {
    "collapsed": true
   },
   "outputs": [],
   "source": [
    "inertia_modified = [inertia/100 for inertia in inertias]"
   ]
  },
  {
   "cell_type": "code",
   "execution_count": 592,
   "metadata": {},
   "outputs": [
    {
     "data": {
      "text/plain": [
       "<matplotlib.text.Text at 0x120b27c90>"
      ]
     },
     "execution_count": 592,
     "metadata": {},
     "output_type": "execute_result"
    },
    {
     "data": {
      "image/png": "[encoded data removed]",
      "text/plain": [
       "<matplotlib.figure.Figure at 0x11dc491d0>"
      ]
     },
     "metadata": {},
     "output_type": "display_data"
    }
   ],
   "source": [
    "plt.title(\"k-means clustering for different k's(8topics)\")\n",
    "plt.subplot(2,1,1)\n",
    "plt.plot(ns, inertia_modified)\n",
    "plt.xlabel('n_cluster')\n",
    "plt.ylabel('Inertia')\n",
    "plt.title(\"k-means clustering for different k's(8topics)\")\n",
    "\n",
    "plt.subplot(2,1,2)\n",
    "plt.plot(ns, Sil_coefs)\n",
    "plt.xlabel('No. of clusters')\n",
    "plt.ylabel('Sihouette score')"
   ]
  },
  {
   "cell_type": "code",
   "execution_count": 604,
   "metadata": {
    "collapsed": true
   },
   "outputs": [],
   "source": [
    "kmeans = KMeans(n_clusters=6, random_state=81617).fit(kickstarter_topic7)\n",
    "inertias.append(kmeans.inertia_)\n",
    "labels = kmeans.labels_\n",
    "Sil_coefs.append(silhouette_score(kickstarter_topic7, labels, metric='euclidean'))"
   ]
  },
  {
   "cell_type": "code",
   "execution_count": 605,
   "metadata": {},
   "outputs": [
    {
     "name": "stdout",
     "output_type": "stream",
     "text": [
      "1    624\n",
      "5    534\n",
      "2    459\n",
      "3    447\n",
      "4    447\n",
      "0    343\n",
      "dtype: int64\n"
     ]
    }
   ],
   "source": [
    "y = np.bincount(labels)\n",
    "print((pd.Series(labels).value_counts()))"
   ]
  },
  {
   "cell_type": "code",
   "execution_count": 678,
   "metadata": {},
   "outputs": [
    {
     "data": {
      "text/plain": [
       "[(0,\n",
       "  u'0.015*\"design\" + 0.010*\"product\" + 0.007*\"time\" + 0.006*\"work\" + 0.006*\"quality\" + 0.006*\"production\" + 0.006*\"use\" + 0.005*\"good\" + 0.005*\"order\" + 0.005*\"bag\" + 0.004*\"high\" + 0.004*\"project\" + 0.004*\"want\" + 0.004*\"material\" + 0.004*\"size\" + 0.004*\"campaign\" + 0.004*\"come\" + 0.003*\"backer\" + 0.003*\"prototype\" + 0.003*\"create\" + 0.003*\"shirt\" + 0.003*\"device\" + 0.003*\"light\" + 0.003*\"like\" + 0.003*\"fit\" + 0.003*\"test\" + 0.003*\"easy\" + 0.003*\"year\" + 0.003*\"color\" + 0.003*\"watch\" + 0.003*\"manufacturer\" + 0.003*\"support\" + 0.003*\"know\" + 0.003*\"allow\" + 0.003*\"control\" + 0.003*\"way\" + 0.003*\"look\" + 0.003*\"hand\" + 0.003*\"manufacture\" + 0.003*\"experience\" + 0.003*\"new\" + 0.003*\"not\" + 0.003*\"phone\" + 0.003*\"process\" + 0.003*\"provide\" + 0.003*\"build\" + 0.003*\"help\" + 0.003*\"case\" + 0.003*\"produce\" + 0.003*\"start\" + 0.002*\"perfect\" + 0.002*\"great\" + 0.002*\"day\" + 0.002*\"include\" + 0.002*\"ensure\" + 0.002*\"small\" + 0.002*\"ship\" + 0.002*\"have\" + 0.002*\"set\" + 0.002*\"deliver\" + 0.002*\"different\" + 0.002*\"system\" + 0.002*\"risk\" + 0.002*\"delay\" + 0.002*\"feature\" + 0.002*\"shipping\" + 0.002*\"end\" + 0.002*\"find\" + 0.002*\"possible\" + 0.002*\"power\" + 0.002*\"wear\" + 0.002*\"manufacturing\" + 0.002*\"leather\" + 0.002*\"ready\" + 0.002*\"price\" + 0.002*\"team\" + 0.002*\"available\" + 0.002*\"run\" + 0.002*\"choose\" + 0.002*\"need\" + 0.002*\"charge\" + 0.002*\"add\" + 0.002*\"brand\" + 0.002*\"long\" + 0.002*\"spinner\" + 0.002*\"receive\" + 0.002*\"reward\" + 0.002*\"delivery\" + 0.002*\"simple\" + 0.002*\"weight\" + 0.002*\"change\" + 0.002*\"board\" + 0.002*\"air\" + 0.002*\"sure\" + 0.002*\"easily\" + 0.002*\"thank\" + 0.002*\"large\" + 0.002*\"problem\" + 0.002*\"feel\" + 0.002*\"place\"'),\n",
       " (1,\n",
       "  u'0.018*\"film\" + 0.014*\"music\" + 0.012*\"project\" + 0.010*\"work\" + 0.008*\"help\" + 0.008*\"time\" + 0.007*\"production\" + 0.007*\"year\" + 0.007*\"new\" + 0.006*\"song\" + 0.006*\"record\" + 0.006*\"album\" + 0.006*\"want\" + 0.005*\"people\" + 0.005*\"good\" + 0.005*\"like\" + 0.005*\"life\" + 0.005*\"create\" + 0.005*\"studio\" + 0.005*\"video\" + 0.004*\"love\" + 0.004*\"support\" + 0.004*\"know\" + 0.004*\"story\" + 0.004*\"fund\" + 0.004*\"sound\" + 0.004*\"not\" + 0.004*\"come\" + 0.004*\"artist\" + 0.004*\"play\" + 0.004*\"goal\" + 0.004*\"have\" + 0.004*\"money\" + 0.004*\"challenge\" + 0.004*\"way\" + 0.004*\"release\" + 0.004*\"produce\" + 0.003*\"day\" + 0.003*\"world\" + 0.003*\"thank\" + 0.003*\"short\" + 0.003*\"big\" + 0.003*\"include\" + 0.003*\"producer\" + 0.003*\"live\" + 0.003*\"friend\" + 0.003*\"risk\" + 0.003*\"team\" + 0.003*\"bring\" + 0.003*\"festival\" + 0.003*\"raise\" + 0.003*\"start\" + 0.003*\"shoot\" + 0.003*\"director\" + 0.003*\"great\" + 0.003*\"make\" + 0.003*\"band\" + 0.003*\"write\" + 0.003*\"reward\" + 0.003*\"cost\" + 0.003*\"musician\" + 0.003*\"experience\" + 0.003*\"lot\" + 0.003*\"movie\" + 0.003*\"find\" + 0.002*\"thing\" + 0.002*\"feature\" + 0.002*\"set\" + 0.002*\"share\" + 0.002*\"get\" + 0.002*\"track\" + 0.002*\"feel\" + 0.002*\"look\" + 0.002*\"documentary\" + 0.002*\"crew\" + 0.002*\"happen\" + 0.002*\"meet\" + 0.002*\"plan\" + 0.002*\"camera\" + 0.002*\"campaign\" + 0.002*\"equipment\" + 0.002*\"art\" + 0.002*\"able\" + 0.002*\"dream\" + 0.002*\"will\" + 0.002*\"pay\" + 0.002*\"complete\" + 0.002*\"hope\" + 0.002*\"need\" + 0.002*\"tell\" + 0.002*\"take\" + 0.002*\"mix\" + 0.002*\"believe\" + 0.002*\"reach\" + 0.002*\"actor\" + 0.002*\"cast\" + 0.002*\"budget\" + 0.002*\"long\" + 0.002*\"recording\" + 0.002*\"right\"'),\n",
       " (2,\n",
       "  u'0.028*\"book\" + 0.011*\"story\" + 0.009*\"print\" + 0.009*\"time\" + 0.008*\"work\" + 0.008*\"life\" + 0.008*\"help\" + 0.007*\"project\" + 0.007*\"people\" + 0.006*\"world\" + 0.006*\"year\" + 0.006*\"like\" + 0.006*\"write\" + 0.006*\"want\" + 0.006*\"child\" + 0.006*\"know\" + 0.005*\"page\" + 0.005*\"love\" + 0.005*\"way\" + 0.005*\"good\" + 0.004*\"not\" + 0.004*\"publish\" + 0.004*\"come\" + 0.004*\"art\" + 0.004*\"woman\" + 0.004*\"issue\" + 0.004*\"read\" + 0.003*\"day\" + 0.003*\"cover\" + 0.003*\"start\" + 0.003*\"share\" + 0.003*\"include\" + 0.003*\"find\" + 0.003*\"feel\" + 0.003*\"create\" + 0.003*\"thing\" + 0.003*\"think\" + 0.003*\"cost\" + 0.003*\"girl\" + 0.003*\"kid\" + 0.003*\"fund\" + 0.003*\"thank\" + 0.003*\"have\" + 0.003*\"new\" + 0.003*\"support\" + 0.003*\"family\" + 0.003*\"series\" + 0.003*\"look\" + 0.003*\"great\" + 0.003*\"change\" + 0.003*\"young\" + 0.003*\"copy\" + 0.003*\"hope\" + 0.003*\"friend\" + 0.002*\"complete\" + 0.002*\"right\" + 0.002*\"challenge\" + 0.002*\"word\" + 0.002*\"raise\" + 0.002*\"author\" + 0.002*\"little\" + 0.002*\"artist\" + 0.002*\"risk\" + 0.002*\"tell\" + 0.002*\"goal\" + 0.002*\"live\" + 0.002*\"magazine\" + 0.002*\"self\" + 0.002*\"comic\" + 0.002*\"novel\" + 0.002*\"money\" + 0.002*\"writer\" + 0.002*\"place\" + 0.002*\"paper\" + 0.002*\"learn\" + 0.002*\"pay\" + 0.002*\"design\" + 0.002*\"dream\" + 0.002*\"idea\" + 0.002*\"believe\" + 0.002*\"illustration\" + 0.002*\"image\" + 0.002*\"experience\" + 0.002*\"inspire\" + 0.002*\"school\" + 0.002*\"old\" + 0.002*\"campaign\" + 0.002*\"reader\" + 0.002*\"god\" + 0.002*\"reward\" + 0.002*\"face\" + 0.002*\"bring\" + 0.002*\"run\" + 0.002*\"try\" + 0.002*\"creative\" + 0.002*\"follow\" + 0.002*\"printing\" + 0.002*\"character\" + 0.002*\"man\" + 0.002*\"get\"'),\n",
       " (3,\n",
       "  u'0.009*\"project\" + 0.008*\"work\" + 0.008*\"community\" + 0.007*\"help\" + 0.006*\"create\" + 0.006*\"time\" + 0.006*\"people\" + 0.005*\"provide\" + 0.005*\"support\" + 0.005*\"world\" + 0.005*\"new\" + 0.004*\"build\" + 0.004*\"art\" + 0.004*\"experience\" + 0.004*\"video\" + 0.004*\"challenge\" + 0.004*\"year\" + 0.004*\"team\" + 0.004*\"event\" + 0.004*\"website\" + 0.004*\"business\" + 0.004*\"development\" + 0.004*\"company\" + 0.004*\"student\" + 0.004*\"learn\" + 0.004*\"space\" + 0.003*\"social\" + 0.003*\"include\" + 0.003*\"allow\" + 0.003*\"school\" + 0.003*\"use\" + 0.003*\"offer\" + 0.003*\"user\" + 0.003*\"able\" + 0.003*\"platform\" + 0.003*\"way\" + 0.003*\"local\" + 0.003*\"develop\" + 0.003*\"home\" + 0.003*\"technology\" + 0.003*\"goal\" + 0.003*\"plan\" + 0.003*\"need\" + 0.003*\"risk\" + 0.003*\"service\" + 0.003*\"want\" + 0.003*\"area\" + 0.003*\"fund\" + 0.003*\"find\" + 0.003*\"base\" + 0.003*\"skill\" + 0.003*\"good\" + 0.003*\"share\" + 0.003*\"travel\" + 0.002*\"opportunity\" + 0.002*\"place\" + 0.002*\"program\" + 0.002*\"future\" + 0.002*\"launch\" + 0.002*\"like\" + 0.002*\"location\" + 0.002*\"real\" + 0.002*\"site\" + 0.002*\"medium\" + 0.002*\"campaign\" + 0.002*\"information\" + 0.002*\"cost\" + 0.002*\"member\" + 0.002*\"change\" + 0.002*\"access\" + 0.002*\"market\" + 0.002*\"course\" + 0.002*\"system\" + 0.002*\"artist\" + 0.002*\"design\" + 0.002*\"grow\" + 0.002*\"country\" + 0.002*\"teacher\" + 0.002*\"great\" + 0.002*\"come\" + 0.002*\"live\" + 0.002*\"continue\" + 0.002*\"life\" + 0.002*\"bring\" + 0.002*\"start\" + 0.002*\"high\" + 0.002*\"network\" + 0.002*\"look\" + 0.002*\"content\" + 0.002*\"professional\" + 0.002*\"feature\" + 0.002*\"organization\" + 0.002*\"money\" + 0.002*\"tool\" + 0.002*\"complete\" + 0.002*\"available\" + 0.002*\"open\" + 0.002*\"resource\" + 0.002*\"require\" + 0.002*\"mobile\"'),\n",
       " (4,\n",
       "  u'0.013*\"product\" + 0.012*\"food\" + 0.009*\"good\" + 0.009*\"help\" + 0.008*\"business\" + 0.007*\"time\" + 0.007*\"want\" + 0.006*\"like\" + 0.006*\"start\" + 0.006*\"people\" + 0.006*\"come\" + 0.006*\"work\" + 0.005*\"year\" + 0.005*\"new\" + 0.005*\"not\" + 0.005*\"love\" + 0.004*\"create\" + 0.004*\"coffee\" + 0.004*\"know\" + 0.004*\"way\" + 0.004*\"challenge\" + 0.004*\"customer\" + 0.004*\"store\" + 0.004*\"tea\" + 0.004*\"risk\" + 0.004*\"thing\" + 0.004*\"great\" + 0.003*\"find\" + 0.003*\"local\" + 0.003*\"water\" + 0.003*\"day\" + 0.003*\"plant\" + 0.003*\"small\" + 0.003*\"market\" + 0.003*\"able\" + 0.003*\"grow\" + 0.003*\"use\" + 0.003*\"shop\" + 0.003*\"need\" + 0.003*\"have\" + 0.003*\"project\" + 0.003*\"plan\" + 0.003*\"fund\" + 0.003*\"quality\" + 0.003*\"support\" + 0.003*\"family\" + 0.003*\"home\" + 0.003*\"friend\" + 0.003*\"cost\" + 0.003*\"thank\" + 0.003*\"natural\" + 0.003*\"sell\" + 0.003*\"produce\" + 0.003*\"goal\" + 0.003*\"money\" + 0.003*\"free\" + 0.003*\"production\" + 0.003*\"big\" + 0.003*\"offer\" + 0.003*\"community\" + 0.003*\"high\" + 0.003*\"lot\" + 0.003*\"kitchen\" + 0.003*\"bring\" + 0.003*\"experience\" + 0.003*\"look\" + 0.003*\"make\" + 0.002*\"will\" + 0.002*\"cup\" + 0.002*\"life\" + 0.002*\"build\" + 0.002*\"buy\" + 0.002*\"ingredient\" + 0.002*\"order\" + 0.002*\"share\" + 0.002*\"believe\" + 0.002*\"little\" + 0.002*\"mean\" + 0.002*\"brand\" + 0.002*\"company\" + 0.002*\"hope\" + 0.002*\"run\" + 0.002*\"health\" + 0.002*\"dream\" + 0.002*\"space\" + 0.002*\"door\" + 0.002*\"try\" + 0.002*\"design\" + 0.002*\"open\" + 0.002*\"chef\" + 0.002*\"process\" + 0.002*\"right\" + 0.002*\"bag\" + 0.002*\"place\" + 0.002*\"world\" + 0.002*\"launch\" + 0.002*\"month\" + 0.002*\"enjoy\" + 0.002*\"material\" + 0.002*\"equipment\"'),\n",
       " (5,\n",
       "  u'0.032*\"game\" + 0.014*\"card\" + 0.008*\"player\" + 0.008*\"play\" + 0.008*\"goal\" + 0.008*\"add\" + 0.008*\"pledge\" + 0.007*\"project\" + 0.007*\"time\" + 0.007*\"pin\" + 0.007*\"design\" + 0.006*\"new\" + 0.006*\"backer\" + 0.006*\"reward\" + 0.006*\"campaign\" + 0.005*\"character\" + 0.005*\"ship\" + 0.005*\"shipping\" + 0.005*\"include\" + 0.005*\"stretch\" + 0.005*\"want\" + 0.005*\"world\" + 0.004*\"print\" + 0.004*\"set\" + 0.004*\"level\" + 0.004*\"like\" + 0.004*\"work\" + 0.004*\"create\" + 0.004*\"deck\" + 0.004*\"good\" + 0.004*\"art\" + 0.003*\"receive\" + 0.003*\"come\" + 0.003*\"comic\" + 0.003*\"end\" + 0.003*\"cost\" + 0.003*\"order\" + 0.003*\"help\" + 0.003*\"high\" + 0.003*\"different\" + 0.003*\"available\" + 0.003*\"complete\" + 0.003*\"find\" + 0.003*\"production\" + 0.002*\"edition\" + 0.002*\"release\" + 0.002*\"number\" + 0.002*\"color\" + 0.002*\"base\" + 0.002*\"copy\" + 0.002*\"choose\" + 0.002*\"fund\" + 0.002*\"update\" + 0.002*\"fun\" + 0.002*\"special\" + 0.002*\"turn\" + 0.002*\"will\" + 0.002*\"thank\" + 0.002*\"version\" + 0.002*\"great\" + 0.002*\"use\" + 0.002*\"free\" + 0.002*\"know\" + 0.002*\"way\" + 0.002*\"able\" + 0.002*\"year\" + 0.002*\"feature\" + 0.002*\"not\" + 0.002*\"board\" + 0.002*\"adventure\" + 0.002*\"quality\" + 0.002*\"hand\" + 0.002*\"have\" + 0.002*\"draw\" + 0.002*\"delay\" + 0.002*\"produce\" + 0.002*\"look\" + 0.002*\"item\" + 0.002*\"run\" + 0.002*\"dice\" + 0.002*\"team\" + 0.002*\"original\" + 0.002*\"tier\" + 0.002*\"start\" + 0.002*\"sticker\" + 0.002*\"unique\" + 0.002*\"rule\" + 0.002*\"additional\" + 0.002*\"love\" + 0.002*\"thing\" + 0.002*\"piece\" + 0.002*\"artist\" + 0.002*\"allow\" + 0.002*\"send\" + 0.002*\"artwork\" + 0.002*\"box\" + 0.002*\"deliver\" + 0.002*\"reach\" + 0.002*\"unlock\" + 0.002*\"possible\"')]"
      ]
     },
     "execution_count": 678,
     "metadata": {},
     "output_type": "execute_result"
    }
   ],
   "source": [
    "lda6.print_topics(num_words=100)"
   ]
  },
  {
   "cell_type": "markdown",
   "metadata": {},
   "source": [
    "## 6 topics identified\n",
    "1. Film and Music\n",
    "1. Publishing\n",
    "1. Food\n",
    "1. Games \n",
    "1. Luxury Items\n",
    "1. Community and Awareness"
   ]
  },
  {
   "cell_type": "code",
   "execution_count": 735,
   "metadata": {
    "collapsed": true
   },
   "outputs": [],
   "source": [
    "kmeans = KMeans(n_clusters=6, random_state=81617).fit(kickstarter_topic6)\n",
    "inertias.append(kmeans.inertia_)\n",
    "labels = kmeans.labels_\n",
    "Sil_coefs.append(silhouette_score(kickstarter_topic7, labels, metric='euclidean'))"
   ]
  },
  {
   "cell_type": "code",
   "execution_count": 779,
   "metadata": {},
   "outputs": [
    {
     "data": {
      "text/plain": [
       "array([[ 0.04816735,  0.0633204 ,  0.64537769,  0.08937813,  0.04279685,\n",
       "         0.10694333],\n",
       "       [ 0.02337287,  0.74622362,  0.08972157,  0.07349885,  0.02552318,\n",
       "         0.03661912],\n",
       "       [ 0.1095873 ,  0.03199094,  0.04383614,  0.08974763,  0.68837879,\n",
       "         0.03163422],\n",
       "       [ 0.08090349,  0.05080198,  0.07968836,  0.06652111,  0.04274105,\n",
       "         0.67539265],\n",
       "       [ 0.72786321,  0.02822362,  0.0397684 ,  0.0796817 ,  0.07212472,\n",
       "         0.0479957 ],\n",
       "       [ 0.0746355 ,  0.1070253 ,  0.10217901,  0.58938419,  0.06208357,\n",
       "         0.06107646]])"
      ]
     },
     "execution_count": 779,
     "metadata": {},
     "output_type": "execute_result"
    }
   ],
   "source": [
    "kmeans.cluster_centers_"
   ]
  },
  {
   "cell_type": "code",
   "execution_count": 752,
   "metadata": {
    "collapsed": true
   },
   "outputs": [],
   "source": [
    "s = pd.DataFrame(labels, columns=[\"label\"])\n",
    "df = kickstarter_df.join(s)"
   ]
  },
  {
   "cell_type": "code",
   "execution_count": 764,
   "metadata": {},
   "outputs": [
    {
     "name": "stdout",
     "output_type": "stream",
     "text": [
      "                    Category\n",
      "label Category              \n",
      "0     Art                 47\n",
      "      Comics              59\n",
      "      Crafts              11\n",
      "      Dance                4\n",
      "      Design              33\n",
      "      Fashion             30\n",
      "      Film & Video        38\n",
      "      Food                 7\n",
      "      Games               28\n",
      "      Journalism          16\n",
      "      Music               16\n",
      "      Photography         25\n",
      "      Publishing         194\n",
      "      Technology          16\n",
      "      Theater              4\n",
      "1     Art                 16\n",
      "      Comics               9\n",
      "      Crafts               2\n",
      "      Dance               13\n",
      "      Design              26\n",
      "      Fashion             13\n",
      "      Film & Video       153\n",
      "      Food                10\n",
      "      Games               19\n",
      "      Journalism           2\n",
      "      Music              161\n",
      "      Photography         10\n",
      "      Publishing          19\n",
      "      Technology           8\n",
      "      Theater             16\n",
      "...                      ...\n",
      "3     Theater              2\n",
      "4     Art                 26\n",
      "      Comics               8\n",
      "      Crafts              11\n",
      "      Design             228\n",
      "      Fashion            104\n",
      "      Film & Video        18\n",
      "      Food                13\n",
      "      Games               29\n",
      "      Journalism           4\n",
      "      Music               10\n",
      "      Photography          6\n",
      "      Publishing          17\n",
      "      Technology         123\n",
      "      Theater              2\n",
      "5     Art                 57\n",
      "      Comics               7\n",
      "      Crafts               8\n",
      "      Dance               13\n",
      "      Design              44\n",
      "      Fashion             20\n",
      "      Film & Video        54\n",
      "      Food                16\n",
      "      Games               44\n",
      "      Journalism          35\n",
      "      Music               28\n",
      "      Photography         10\n",
      "      Publishing          48\n",
      "      Technology          62\n",
      "      Theater              5\n",
      "\n",
      "[88 rows x 1 columns]\n"
     ]
    }
   ],
   "source": [
    "print df.groupby(['label','Category'])[['Category']].count()"
   ]
  },
  {
   "cell_type": "code",
   "execution_count": 766,
   "metadata": {},
   "outputs": [
    {
     "data": {
      "text/plain": [
       "<matplotlib.text.Text at 0x12ddb19d0>"
      ]
     },
     "execution_count": 766,
     "metadata": {},
     "output_type": "execute_result"
    },
    {
     "data": {
      "image/png": "[encoded data removed]",
      "text/plain": [
       "<matplotlib.figure.Figure at 0x12dd656d0>"
      ]
     },
     "metadata": {},
     "output_type": "display_data"
    }
   ],
   "source": [
    "labels = ['Art', 'Comics','Crafts', 'Dance', 'Design', 'Fashion', 'Film & Video', 'Food', 'Games', 'Journalism', 'Music', 'Photography', 'Publishing', 'Technology', 'Theater']\n",
    "\n",
    "values = [47,59,11,4,33,30,38,7,28,16,16,25,194,16,4]\n",
    "plt.figure()\n",
    "\n",
    "plt.barh(np.arange(len(labels)), values)\n",
    "\n",
    "plt.yticks(np.arange(len(labels)),\n",
    "           [label for label in labels]);\n",
    "plt.xlabel(\"# of projects\")\n",
    "plt.ylabel('Categories')\n",
    "plt.title(\"Distribution of projects in Cluster 1\")"
   ]
  },
  {
   "cell_type": "code",
   "execution_count": 768,
   "metadata": {},
   "outputs": [
    {
     "data": {
      "text/plain": [
       "<matplotlib.text.Text at 0x134eade10>"
      ]
     },
     "execution_count": 768,
     "metadata": {},
     "output_type": "execute_result"
    },
    {
     "data": {
      "image/png": "[encoded data removed]",
      "text/plain": [
       "<matplotlib.figure.Figure at 0x136c39290>"
      ]
     },
     "metadata": {},
     "output_type": "display_data"
    }
   ],
   "source": [
    "labels = ['Art', 'Comics','Crafts', 'Dance', 'Design', 'Fashion', 'Film & Video', 'Food', 'Games', 'Journalism', 'Music', 'Photography', 'Publishing', 'Technology', 'Theater']\n",
    "\n",
    "values = [16,9,2,13,26,13,153,10,19,2,161,10,19,8,16]\n",
    "plt.figure()\n",
    "\n",
    "plt.barh(np.arange(len(years)), values)\n",
    "\n",
    "plt.yticks(np.arange(len(labels)),\n",
    "           [label for label in labels]);\n",
    "plt.xlabel(\"# of projects\")\n",
    "plt.ylabel('Categories')\n",
    "plt.title(\"Distribution of projects in Cluster 2\")"
   ]
  },
  {
   "cell_type": "code",
   "execution_count": 769,
   "metadata": {},
   "outputs": [
    {
     "data": {
      "text/plain": [
       "<matplotlib.text.Text at 0x132c49810>"
      ]
     },
     "execution_count": 769,
     "metadata": {},
     "output_type": "execute_result"
    },
    {
     "data": {
      "image/png": "[encoded data removed]",
      "text/plain": [
       "<matplotlib.figure.Figure at 0x132dfddd0>"
      ]
     },
     "metadata": {},
     "output_type": "display_data"
    }
   ],
   "source": [
    "labels = ['Art', 'Comics','Crafts', 'Dance', 'Design', 'Fashion', 'Film & Video', 'Food', 'Games', 'Journalism', 'Music', 'Photography', 'Publishing', 'Technology', 'Theater']\n",
    "\n",
    "values = [57,7,8,13,44,20,54,16,44,35,28,10,48,62,5]\n",
    "plt.figure()\n",
    "\n",
    "plt.barh(np.arange(len(labels)), values)\n",
    "\n",
    "plt.yticks(np.arange(len(labels)),\n",
    "           [label for label in labels]);\n",
    "plt.xlabel(\"# of projects\")\n",
    "plt.ylabel('Categories')\n",
    "plt.title(\"Distribution of projects in Cluster 6\")"
   ]
  },
  {
   "cell_type": "code",
   "execution_count": 778,
   "metadata": {},
   "outputs": [
    {
     "name": "stdout",
     "output_type": "stream",
     "text": [
      "15\n"
     ]
    },
    {
     "data": {
      "text/plain": [
       "<matplotlib.text.Text at 0x132aeac10>"
      ]
     },
     "execution_count": 778,
     "metadata": {},
     "output_type": "execute_result"
    },
    {
     "data": {
      "image/png": "[encoded data removed]",
      "text/plain": [
       "<matplotlib.figure.Figure at 0x132e416d0>"
      ]
     },
     "metadata": {},
     "output_type": "display_data"
    }
   ],
   "source": [
    "labels = ['Art', 'Comics','Crafts', 'Dance', 'Design', 'Fashion', 'Film & Video', 'Food', 'Games', 'Journalism', 'Music', 'Photography', 'Publishing', 'Technology', 'Theater']\n",
    "\n",
    "values = [57,7,8,13,44,20,54,16,44,35,28,10,48,62,5]\n",
    "print len(values)\n",
    "\n",
    "plt.figure()\n",
    "\n",
    "plt.barh(np.arange(len(labels)), values)\n",
    "\n",
    "plt.yticks(np.arange(len(labels)),\n",
    "           [label for label in labels]);\n",
    "plt.xlabel(\"# of projects\")\n",
    "plt.ylabel('Categories')\n",
    "plt.title(\"Distribution of projects in Cluster 6\")"
   ]
  },
  {
   "cell_type": "code",
   "execution_count": null,
   "metadata": {
    "collapsed": true
   },
   "outputs": [],
   "source": []
  }
 ],
 "metadata": {
  "anaconda-cloud": {},
  "kernelspec": {
   "display_name": "Python [conda root]",
   "language": "python",
   "name": "conda-root-py"
  },
  "language_info": {
   "codemirror_mode": {
    "name": "ipython",
    "version": 2
   },
   "file_extension": ".py",
   "mimetype": "text/x-python",
   "name": "python",
   "nbconvert_exporter": "python",
   "pygments_lexer": "ipython2",
   "version": "2.7.14"
  }
 },
 "nbformat": 4,
 "nbformat_minor": 2
}
